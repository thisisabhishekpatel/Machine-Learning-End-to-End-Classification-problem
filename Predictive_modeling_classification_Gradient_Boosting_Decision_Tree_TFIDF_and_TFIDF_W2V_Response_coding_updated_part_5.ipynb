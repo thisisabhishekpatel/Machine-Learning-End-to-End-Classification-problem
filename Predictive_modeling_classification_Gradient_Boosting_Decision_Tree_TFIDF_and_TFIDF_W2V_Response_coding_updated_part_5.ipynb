{
  "nbformat": 4,
  "nbformat_minor": 0,
  "metadata": {
    "kernelspec": {
      "display_name": "Python 3",
      "language": "python",
      "name": "python3"
    },
    "language_info": {
      "codemirror_mode": {
        "name": "ipython",
        "version": 3
      },
      "file_extension": ".py",
      "mimetype": "text/x-python",
      "name": "python",
      "nbconvert_exporter": "python",
      "pygments_lexer": "ipython3",
      "version": "3.7.9"
    },
    "colab": {
      "name": "Predictive_modeling_classification_Gradient_Boosting_Decision_Tree_TFIDF_and_TFIDF_W2V_Response_coding_updated_part_4.ipynb",
      "provenance": [],
      "collapsed_sections": []
    }
  },
  "cells": [
    {
      "cell_type": "markdown",
      "metadata": {
        "id": "WniP6wdPWQCK"
      },
      "source": [
        "# GBDT"
      ]
    },
    {
      "cell_type": "markdown",
      "metadata": {
        "id": "IgcLCT9xWQCM"
      },
      "source": [
        "#### Response Coding: Example"
      ]
    },
    {
      "cell_type": "markdown",
      "metadata": {
        "id": "66pYGkcqWQCM"
      },
      "source": [
        "<img src='http://i.imgur.com/TufZptV.jpg' width=700px>\n",
        "\n",
        "> The response tabel is built only on train dataset.\n",
        "> For a category which is not there in train data and present in test data, we will encode them with default values\n",
        "Ex: in our test data if have State: D then we encode it as [0.5, 0.05]"
      ]
    },
    {
      "cell_type": "markdown",
      "metadata": {
        "id": "-wpWc8ItWQCM"
      },
      "source": [
        "<ol>\n",
        "    <li><strong>Apply GBDT on these feature sets</strong>\n",
        "        <ul>\n",
        "            <li><font color='red'>Set 1</font>: categorical(instead of one hot encoding, try <a href='https://www.appliedaicourse.com/course/applied-ai-course-online/lessons/handling-categorical-and-numerical-features/'>response coding</a>: use probability values), numerical features + project_title(TFIDF)+  preprocessed_eassay (TFIDF)+sentiment Score of eassay(check the bellow example, include all 4 values as 4 features)</li>\n",
        "            <li><font color='red'>Set 2</font>: categorical(instead of one hot encoding, try <a href='https://www.appliedaicourse.com/course/applied-ai-course-online/lessons/handling-categorical-and-numerical-features/'>response coding</a>: use probability values), numerical features + project_title(TFIDF W2V)+  preprocessed_eassay (TFIDF W2V)</li>        </ul>\n",
        "    </li>\n",
        "    <li><strong>The hyper paramter tuning (Consider any two hyper parameters)</strong>\n",
        "        <ul>\n",
        "    <li>Find the best hyper parameter which will give the maximum <a href='https://www.appliedaicourse.com/course/applied-ai-course-online/lessons/receiver-operating-characteristic-curve-roc-curve-and-auc-1/'>AUC</a> value</li>\n",
        "    <li>find the best hyper paramter using k-fold cross validation/simple cross validation data</li>\n",
        "    <li>use gridsearch cv or randomsearch cv or you can write your own for loops to do this task</li>\n",
        "        </ul>\n",
        "    </li>\n",
        "    <li>\n",
        "    <strong>Representation of results</strong>\n",
        "        <ul>\n",
        "    <li>You need to plot the performance of model both on train data and cross validation data for each hyper parameter, like shown in the figure\n",
        "    <img src='https://i.imgur.com/Gp2DQmh.jpg' width=500px> with X-axis as <strong>n_estimators</strong>, Y-axis as <strong>max_depth</strong>, and Z-axis as <strong>AUC Score</strong> , we have given the notebook which explains how to plot this 3d plot, you can find it in the same drive <i>3d_scatter_plot.ipynb</i></li>\n",
        "            <p style=\"text-align:center;font-size:30px;color:red;\"><strong>or</strong></p> <br>\n",
        "    <li>You need to plot the performance of model both on train data and cross validation data for each hyper parameter, like shown in the figure\n",
        "    <img src='https://i.imgur.com/fgN9aUP.jpg' width=300px> <a href='https://seaborn.pydata.org/generated/seaborn.heatmap.html'>seaborn heat maps</a> with rows as <strong>n_estimators</strong>, columns as <strong>max_depth</strong>, and values inside the cell representing <strong>AUC Score</strong> </li>\n",
        "    <li>You choose either of the plotting techniques out of 3d plot or heat map</li>\n",
        "    <li>Once after you found the best hyper parameter, you need to train your model with it, and find the AUC on test data and plot the ROC curve on both train and test.\n",
        "    <img src='https://i.imgur.com/wMQDTFe.jpg' width=300px></li>\n",
        "    <li>Along with plotting ROC curve, you need to print the <a href='https://www.appliedaicourse.com/course/applied-ai-course-online/lessons/confusion-matrix-tpr-fpr-fnr-tnr-1/'>confusion matrix</a> with predicted and original labels of test data points\n",
        "    <img src='https://i.imgur.com/IdN5Ctv.png' width=300px></li>\n",
        "            </ul>\n",
        "    <br>\n",
        "    \n",
        "</ol>"
      ]
    },
    {
      "cell_type": "markdown",
      "metadata": {
        "id": "hsMzWWErWQCN"
      },
      "source": [
        "<h1>1. GBDT (xgboost/lightgbm) </h1>"
      ]
    },
    {
      "cell_type": "markdown",
      "metadata": {
        "id": "eKHYGauIWQCN"
      },
      "source": [
        "## 1.0 Import necessary packages & Loading Data"
      ]
    },
    {
      "cell_type": "markdown",
      "metadata": {
        "id": "PyQPECLYWQCO"
      },
      "source": [
        "<h2>1.1 GBDT with TFIDF W2V and response coding with categorical features</h2>"
      ]
    },
    {
      "cell_type": "code",
      "metadata": {
        "id": "w-mqDD0XWQCO"
      },
      "source": [
        "#https://www.kaggle.com/c/donorschoose-application-screening/notebooks\n",
        "#https://xgboost.readthedocs.io/en/latest/parameter.html\n",
        "#https://machinelearningmastery.com/gentle-introduction-xgboost-applied-machine-learning/\n",
        "\n",
        "%matplotlib inline\n",
        "import warnings\n",
        "warnings.filterwarnings(\"ignore\")\n",
        "\n",
        "import pandas as pd\n",
        "import numpy as np\n",
        "import nltk\n",
        "import matplotlib.pyplot as plt\n",
        "import seaborn as sns\n",
        "from sklearn.feature_extraction.text import TfidfVectorizer\n",
        "from sklearn.feature_extraction.text import CountVectorizer\n",
        "from sklearn.metrics import confusion_matrix\n",
        "from sklearn import metrics\n",
        "from sklearn.metrics import roc_curve, auc\n",
        "import re\n",
        "# Tutorial about Python regular expressions: https://pymotw.com/2/re/\n",
        "\n",
        "import pickle\n",
        "from tqdm import tqdm\n",
        "import os\n",
        "\n",
        "#from plotly import plotly\n",
        "#import plotly.offline as offline\n",
        "#import plotly.graph_objs as go\n",
        "#offline.init_notebook_mode()\n",
        "from collections import Counter"
      ],
      "execution_count": null,
      "outputs": []
    },
    {
      "cell_type": "code",
      "metadata": {
        "id": "At54pZ_HWQCP",
        "outputId": "42c6ccfb-9361-491a-e0f2-0ea725118790"
      },
      "source": [
        "project_df = pd.read_csv('preprocessed_data.csv', nrows = 30000)\n",
        "project_df.head()"
      ],
      "execution_count": null,
      "outputs": [
        {
          "output_type": "execute_result",
          "data": {
            "text/html": [
              "<div>\n",
              "<style scoped>\n",
              "    .dataframe tbody tr th:only-of-type {\n",
              "        vertical-align: middle;\n",
              "    }\n",
              "\n",
              "    .dataframe tbody tr th {\n",
              "        vertical-align: top;\n",
              "    }\n",
              "\n",
              "    .dataframe thead th {\n",
              "        text-align: right;\n",
              "    }\n",
              "</style>\n",
              "<table border=\"1\" class=\"dataframe\">\n",
              "  <thead>\n",
              "    <tr style=\"text-align: right;\">\n",
              "      <th></th>\n",
              "      <th>school_state</th>\n",
              "      <th>teacher_prefix</th>\n",
              "      <th>project_grade_category</th>\n",
              "      <th>teacher_number_of_previously_posted_projects</th>\n",
              "      <th>project_is_approved</th>\n",
              "      <th>clean_categories</th>\n",
              "      <th>clean_subcategories</th>\n",
              "      <th>essay</th>\n",
              "      <th>price</th>\n",
              "    </tr>\n",
              "  </thead>\n",
              "  <tbody>\n",
              "    <tr>\n",
              "      <th>0</th>\n",
              "      <td>ca</td>\n",
              "      <td>mrs</td>\n",
              "      <td>grades_prek_2</td>\n",
              "      <td>53</td>\n",
              "      <td>1</td>\n",
              "      <td>math_science</td>\n",
              "      <td>appliedsciences health_lifescience</td>\n",
              "      <td>i fortunate enough use fairy tale stem kits cl...</td>\n",
              "      <td>725.05</td>\n",
              "    </tr>\n",
              "    <tr>\n",
              "      <th>1</th>\n",
              "      <td>ut</td>\n",
              "      <td>ms</td>\n",
              "      <td>grades_3_5</td>\n",
              "      <td>4</td>\n",
              "      <td>1</td>\n",
              "      <td>specialneeds</td>\n",
              "      <td>specialneeds</td>\n",
              "      <td>imagine 8 9 years old you third grade classroo...</td>\n",
              "      <td>213.03</td>\n",
              "    </tr>\n",
              "    <tr>\n",
              "      <th>2</th>\n",
              "      <td>ca</td>\n",
              "      <td>mrs</td>\n",
              "      <td>grades_prek_2</td>\n",
              "      <td>10</td>\n",
              "      <td>1</td>\n",
              "      <td>literacy_language</td>\n",
              "      <td>literacy</td>\n",
              "      <td>having class 24 students comes diverse learner...</td>\n",
              "      <td>329.00</td>\n",
              "    </tr>\n",
              "    <tr>\n",
              "      <th>3</th>\n",
              "      <td>ga</td>\n",
              "      <td>mrs</td>\n",
              "      <td>grades_prek_2</td>\n",
              "      <td>2</td>\n",
              "      <td>1</td>\n",
              "      <td>appliedlearning</td>\n",
              "      <td>earlydevelopment</td>\n",
              "      <td>i recently read article giving students choice...</td>\n",
              "      <td>481.04</td>\n",
              "    </tr>\n",
              "    <tr>\n",
              "      <th>4</th>\n",
              "      <td>wa</td>\n",
              "      <td>mrs</td>\n",
              "      <td>grades_3_5</td>\n",
              "      <td>2</td>\n",
              "      <td>1</td>\n",
              "      <td>literacy_language</td>\n",
              "      <td>literacy</td>\n",
              "      <td>my students crave challenge eat obstacles brea...</td>\n",
              "      <td>17.74</td>\n",
              "    </tr>\n",
              "  </tbody>\n",
              "</table>\n",
              "</div>"
            ],
            "text/plain": [
              "  school_state teacher_prefix project_grade_category  \\\n",
              "0           ca            mrs          grades_prek_2   \n",
              "1           ut             ms             grades_3_5   \n",
              "2           ca            mrs          grades_prek_2   \n",
              "3           ga            mrs          grades_prek_2   \n",
              "4           wa            mrs             grades_3_5   \n",
              "\n",
              "   teacher_number_of_previously_posted_projects  project_is_approved  \\\n",
              "0                                            53                    1   \n",
              "1                                             4                    1   \n",
              "2                                            10                    1   \n",
              "3                                             2                    1   \n",
              "4                                             2                    1   \n",
              "\n",
              "    clean_categories                 clean_subcategories  \\\n",
              "0       math_science  appliedsciences health_lifescience   \n",
              "1       specialneeds                        specialneeds   \n",
              "2  literacy_language                            literacy   \n",
              "3    appliedlearning                    earlydevelopment   \n",
              "4  literacy_language                            literacy   \n",
              "\n",
              "                                               essay   price  \n",
              "0  i fortunate enough use fairy tale stem kits cl...  725.05  \n",
              "1  imagine 8 9 years old you third grade classroo...  213.03  \n",
              "2  having class 24 students comes diverse learner...  329.00  \n",
              "3  i recently read article giving students choice...  481.04  \n",
              "4  my students crave challenge eat obstacles brea...   17.74  "
            ]
          },
          "metadata": {
            "tags": []
          },
          "execution_count": 2
        }
      ]
    },
    {
      "cell_type": "code",
      "metadata": {
        "id": "WquwdfFGWQCQ",
        "outputId": "269f1a1b-b58f-4eb2-b68c-bb9a5e2c7371"
      },
      "source": [
        "project_df.info()"
      ],
      "execution_count": null,
      "outputs": [
        {
          "output_type": "stream",
          "text": [
            "<class 'pandas.core.frame.DataFrame'>\n",
            "RangeIndex: 30000 entries, 0 to 29999\n",
            "Data columns (total 9 columns):\n",
            " #   Column                                        Non-Null Count  Dtype  \n",
            "---  ------                                        --------------  -----  \n",
            " 0   school_state                                  30000 non-null  object \n",
            " 1   teacher_prefix                                30000 non-null  object \n",
            " 2   project_grade_category                        30000 non-null  object \n",
            " 3   teacher_number_of_previously_posted_projects  30000 non-null  int64  \n",
            " 4   project_is_approved                           30000 non-null  int64  \n",
            " 5   clean_categories                              30000 non-null  object \n",
            " 6   clean_subcategories                           30000 non-null  object \n",
            " 7   essay                                         30000 non-null  object \n",
            " 8   price                                         30000 non-null  float64\n",
            "dtypes: float64(1), int64(2), object(6)\n",
            "memory usage: 2.1+ MB\n"
          ],
          "name": "stdout"
        }
      ]
    },
    {
      "cell_type": "code",
      "metadata": {
        "id": "a8mmrHiIWQCQ",
        "outputId": "f1d0abc4-7143-44c9-ef9b-9b0ea0955ac9"
      },
      "source": [
        "project_df['project_is_approved'].value_counts()"
      ],
      "execution_count": null,
      "outputs": [
        {
          "output_type": "execute_result",
          "data": {
            "text/plain": [
              "1    25373\n",
              "0     4627\n",
              "Name: project_is_approved, dtype: int64"
            ]
          },
          "metadata": {
            "tags": []
          },
          "execution_count": 4
        }
      ]
    },
    {
      "cell_type": "markdown",
      "metadata": {
        "id": "qgL573QCWQCQ"
      },
      "source": [
        "<h2>1.2 Getting sentiment score beased on essay features and concat with original dataframe</h2>"
      ]
    },
    {
      "cell_type": "code",
      "metadata": {
        "id": "rCLB7k1jWQCR",
        "outputId": "6cd81da2-7c2d-4880-9226-e98c47cf3ece"
      },
      "source": [
        "essay = project_df['essay'].to_list()\n",
        "print(essay[1])"
      ],
      "execution_count": null,
      "outputs": [
        {
          "output_type": "stream",
          "text": [
            "imagine 8 9 years old you third grade classroom you see bright lights kid next chewing gum birds making noise street outside buzzing cars hot teacher asking focus learning ack you need break so students most students autism anxiety another disability it tough focus school due sensory overload emotions my students lot deal school i think makes incredible kids planet they kind caring sympathetic they know like overwhelmed understand someone else struggling they open minded compassionate they kids someday change world it tough one thing time when sensory overload gets way hardest thing world focus learning my students need many breaks throughout day one best items used boogie board if classroom students could take break exactly need one regardless rooms school occupied many students need something hands order focus task hand putty give sensory input need order focus calm overloaded help improve motor skills make school fun when students able calm ready learn when able focus learn retain they get sensory input need prevent meltdowns scary everyone room this lead better happier classroom community able learn best way possible\n"
          ],
          "name": "stdout"
        }
      ]
    },
    {
      "cell_type": "code",
      "metadata": {
        "id": "uOcukOIYWQCR",
        "outputId": "4bfda4ac-aa31-443f-c22c-9e64271bdb91"
      },
      "source": [
        "import nltk\n",
        "nltk.download('vader_lexicon')"
      ],
      "execution_count": null,
      "outputs": [
        {
          "output_type": "stream",
          "text": [
            "[nltk_data] Downloading package vader_lexicon to\n",
            "[nltk_data]     C:\\Users\\lenovo\\AppData\\Roaming\\nltk_data...\n",
            "[nltk_data]   Package vader_lexicon is already up-to-date!\n"
          ],
          "name": "stderr"
        },
        {
          "output_type": "execute_result",
          "data": {
            "text/plain": [
              "True"
            ]
          },
          "metadata": {
            "tags": []
          },
          "execution_count": 6
        }
      ]
    },
    {
      "cell_type": "code",
      "metadata": {
        "id": "KUhyOM59WQCR"
      },
      "source": [
        "def nltk_sentiment(sentence):\n",
        "    from nltk.sentiment.vader import SentimentIntensityAnalyzer\n",
        "    \n",
        "    nltk_sentiment = SentimentIntensityAnalyzer()\n",
        "    score = nltk_sentiment.polarity_scores(sentence)\n",
        "    return score"
      ],
      "execution_count": null,
      "outputs": []
    },
    {
      "cell_type": "code",
      "metadata": {
        "id": "8dGsU0nQWQCR",
        "outputId": "71df00d6-0bf9-4b9b-e830-f10edc884009"
      },
      "source": [
        "from tqdm import tqdm\n",
        "nltk_results = [nltk_sentiment(row) for row in tqdm(essay)]"
      ],
      "execution_count": null,
      "outputs": [
        {
          "output_type": "stream",
          "text": [
            "100%|████████████████████████████████████████████████████████████████████████████| 30000/30000 [06:52<00:00, 72.68it/s]\n"
          ],
          "name": "stderr"
        }
      ]
    },
    {
      "cell_type": "code",
      "metadata": {
        "id": "Sf1MT2myWQCS",
        "outputId": "480e0502-a48b-4191-9586-4991b2285b82"
      },
      "source": [
        "essay_df = pd.DataFrame(nltk_results)\n",
        "essay_df.head(2)"
      ],
      "execution_count": null,
      "outputs": [
        {
          "output_type": "execute_result",
          "data": {
            "text/html": [
              "<div>\n",
              "<style scoped>\n",
              "    .dataframe tbody tr th:only-of-type {\n",
              "        vertical-align: middle;\n",
              "    }\n",
              "\n",
              "    .dataframe tbody tr th {\n",
              "        vertical-align: top;\n",
              "    }\n",
              "\n",
              "    .dataframe thead th {\n",
              "        text-align: right;\n",
              "    }\n",
              "</style>\n",
              "<table border=\"1\" class=\"dataframe\">\n",
              "  <thead>\n",
              "    <tr style=\"text-align: right;\">\n",
              "      <th></th>\n",
              "      <th>neg</th>\n",
              "      <th>neu</th>\n",
              "      <th>pos</th>\n",
              "      <th>compound</th>\n",
              "    </tr>\n",
              "  </thead>\n",
              "  <tbody>\n",
              "    <tr>\n",
              "      <th>0</th>\n",
              "      <td>0.013</td>\n",
              "      <td>0.783</td>\n",
              "      <td>0.205</td>\n",
              "      <td>0.9867</td>\n",
              "    </tr>\n",
              "    <tr>\n",
              "      <th>1</th>\n",
              "      <td>0.072</td>\n",
              "      <td>0.680</td>\n",
              "      <td>0.248</td>\n",
              "      <td>0.9897</td>\n",
              "    </tr>\n",
              "  </tbody>\n",
              "</table>\n",
              "</div>"
            ],
            "text/plain": [
              "     neg    neu    pos  compound\n",
              "0  0.013  0.783  0.205    0.9867\n",
              "1  0.072  0.680  0.248    0.9897"
            ]
          },
          "metadata": {
            "tags": []
          },
          "execution_count": 9
        }
      ]
    },
    {
      "cell_type": "code",
      "metadata": {
        "id": "rdK-z2pwWQCS",
        "outputId": "adb791e4-ab57-4e83-dc11-a74b9035127e"
      },
      "source": [
        "essay_df.shape"
      ],
      "execution_count": null,
      "outputs": [
        {
          "output_type": "execute_result",
          "data": {
            "text/plain": [
              "(30000, 4)"
            ]
          },
          "metadata": {
            "tags": []
          },
          "execution_count": 10
        }
      ]
    },
    {
      "cell_type": "code",
      "metadata": {
        "id": "nRnMM7AOWQCS",
        "outputId": "6b35556e-7d16-4ab1-c651-9f760dd21080"
      },
      "source": [
        "final_project_df = pd.concat([project_df, essay_df], axis=1)\n",
        "final_project_df.head()"
      ],
      "execution_count": null,
      "outputs": [
        {
          "output_type": "execute_result",
          "data": {
            "text/html": [
              "<div>\n",
              "<style scoped>\n",
              "    .dataframe tbody tr th:only-of-type {\n",
              "        vertical-align: middle;\n",
              "    }\n",
              "\n",
              "    .dataframe tbody tr th {\n",
              "        vertical-align: top;\n",
              "    }\n",
              "\n",
              "    .dataframe thead th {\n",
              "        text-align: right;\n",
              "    }\n",
              "</style>\n",
              "<table border=\"1\" class=\"dataframe\">\n",
              "  <thead>\n",
              "    <tr style=\"text-align: right;\">\n",
              "      <th></th>\n",
              "      <th>school_state</th>\n",
              "      <th>teacher_prefix</th>\n",
              "      <th>project_grade_category</th>\n",
              "      <th>teacher_number_of_previously_posted_projects</th>\n",
              "      <th>project_is_approved</th>\n",
              "      <th>clean_categories</th>\n",
              "      <th>clean_subcategories</th>\n",
              "      <th>essay</th>\n",
              "      <th>price</th>\n",
              "      <th>neg</th>\n",
              "      <th>neu</th>\n",
              "      <th>pos</th>\n",
              "      <th>compound</th>\n",
              "    </tr>\n",
              "  </thead>\n",
              "  <tbody>\n",
              "    <tr>\n",
              "      <th>0</th>\n",
              "      <td>ca</td>\n",
              "      <td>mrs</td>\n",
              "      <td>grades_prek_2</td>\n",
              "      <td>53</td>\n",
              "      <td>1</td>\n",
              "      <td>math_science</td>\n",
              "      <td>appliedsciences health_lifescience</td>\n",
              "      <td>i fortunate enough use fairy tale stem kits cl...</td>\n",
              "      <td>725.05</td>\n",
              "      <td>0.013</td>\n",
              "      <td>0.783</td>\n",
              "      <td>0.205</td>\n",
              "      <td>0.9867</td>\n",
              "    </tr>\n",
              "    <tr>\n",
              "      <th>1</th>\n",
              "      <td>ut</td>\n",
              "      <td>ms</td>\n",
              "      <td>grades_3_5</td>\n",
              "      <td>4</td>\n",
              "      <td>1</td>\n",
              "      <td>specialneeds</td>\n",
              "      <td>specialneeds</td>\n",
              "      <td>imagine 8 9 years old you third grade classroo...</td>\n",
              "      <td>213.03</td>\n",
              "      <td>0.072</td>\n",
              "      <td>0.680</td>\n",
              "      <td>0.248</td>\n",
              "      <td>0.9897</td>\n",
              "    </tr>\n",
              "    <tr>\n",
              "      <th>2</th>\n",
              "      <td>ca</td>\n",
              "      <td>mrs</td>\n",
              "      <td>grades_prek_2</td>\n",
              "      <td>10</td>\n",
              "      <td>1</td>\n",
              "      <td>literacy_language</td>\n",
              "      <td>literacy</td>\n",
              "      <td>having class 24 students comes diverse learner...</td>\n",
              "      <td>329.00</td>\n",
              "      <td>0.017</td>\n",
              "      <td>0.721</td>\n",
              "      <td>0.262</td>\n",
              "      <td>0.9860</td>\n",
              "    </tr>\n",
              "    <tr>\n",
              "      <th>3</th>\n",
              "      <td>ga</td>\n",
              "      <td>mrs</td>\n",
              "      <td>grades_prek_2</td>\n",
              "      <td>2</td>\n",
              "      <td>1</td>\n",
              "      <td>appliedlearning</td>\n",
              "      <td>earlydevelopment</td>\n",
              "      <td>i recently read article giving students choice...</td>\n",
              "      <td>481.04</td>\n",
              "      <td>0.030</td>\n",
              "      <td>0.783</td>\n",
              "      <td>0.187</td>\n",
              "      <td>0.9524</td>\n",
              "    </tr>\n",
              "    <tr>\n",
              "      <th>4</th>\n",
              "      <td>wa</td>\n",
              "      <td>mrs</td>\n",
              "      <td>grades_3_5</td>\n",
              "      <td>2</td>\n",
              "      <td>1</td>\n",
              "      <td>literacy_language</td>\n",
              "      <td>literacy</td>\n",
              "      <td>my students crave challenge eat obstacles brea...</td>\n",
              "      <td>17.74</td>\n",
              "      <td>0.029</td>\n",
              "      <td>0.683</td>\n",
              "      <td>0.288</td>\n",
              "      <td>0.9873</td>\n",
              "    </tr>\n",
              "  </tbody>\n",
              "</table>\n",
              "</div>"
            ],
            "text/plain": [
              "  school_state teacher_prefix project_grade_category  \\\n",
              "0           ca            mrs          grades_prek_2   \n",
              "1           ut             ms             grades_3_5   \n",
              "2           ca            mrs          grades_prek_2   \n",
              "3           ga            mrs          grades_prek_2   \n",
              "4           wa            mrs             grades_3_5   \n",
              "\n",
              "   teacher_number_of_previously_posted_projects  project_is_approved  \\\n",
              "0                                            53                    1   \n",
              "1                                             4                    1   \n",
              "2                                            10                    1   \n",
              "3                                             2                    1   \n",
              "4                                             2                    1   \n",
              "\n",
              "    clean_categories                 clean_subcategories  \\\n",
              "0       math_science  appliedsciences health_lifescience   \n",
              "1       specialneeds                        specialneeds   \n",
              "2  literacy_language                            literacy   \n",
              "3    appliedlearning                    earlydevelopment   \n",
              "4  literacy_language                            literacy   \n",
              "\n",
              "                                               essay   price    neg    neu  \\\n",
              "0  i fortunate enough use fairy tale stem kits cl...  725.05  0.013  0.783   \n",
              "1  imagine 8 9 years old you third grade classroo...  213.03  0.072  0.680   \n",
              "2  having class 24 students comes diverse learner...  329.00  0.017  0.721   \n",
              "3  i recently read article giving students choice...  481.04  0.030  0.783   \n",
              "4  my students crave challenge eat obstacles brea...   17.74  0.029  0.683   \n",
              "\n",
              "     pos  compound  \n",
              "0  0.205    0.9867  \n",
              "1  0.248    0.9897  \n",
              "2  0.262    0.9860  \n",
              "3  0.187    0.9524  \n",
              "4  0.288    0.9873  "
            ]
          },
          "metadata": {
            "tags": []
          },
          "execution_count": 11
        }
      ]
    },
    {
      "cell_type": "code",
      "metadata": {
        "id": "PwZ6SwIdWQCS"
      },
      "source": [
        "y = final_project_df['project_is_approved'].values"
      ],
      "execution_count": null,
      "outputs": []
    },
    {
      "cell_type": "markdown",
      "metadata": {
        "id": "DEWqV7JGWQCS"
      },
      "source": [
        "<h2>1.3 Splitting data into Train and cross validation(or test): Stratified Sampling</h2>"
      ]
    },
    {
      "cell_type": "code",
      "metadata": {
        "id": "khKz7cmQWQCT"
      },
      "source": [
        "from sklearn.model_selection import train_test_split\n",
        "X_train, X_test, y_train, y_test = train_test_split(final_project_df, y, test_size=0.33, stratify=y)"
      ],
      "execution_count": null,
      "outputs": []
    },
    {
      "cell_type": "code",
      "metadata": {
        "id": "7YJP0IRGWQCT",
        "outputId": "4c1b373c-5d85-40c4-9725-bc9f465e6b81"
      },
      "source": [
        "X_train.head()"
      ],
      "execution_count": null,
      "outputs": [
        {
          "output_type": "execute_result",
          "data": {
            "text/html": [
              "<div>\n",
              "<style scoped>\n",
              "    .dataframe tbody tr th:only-of-type {\n",
              "        vertical-align: middle;\n",
              "    }\n",
              "\n",
              "    .dataframe tbody tr th {\n",
              "        vertical-align: top;\n",
              "    }\n",
              "\n",
              "    .dataframe thead th {\n",
              "        text-align: right;\n",
              "    }\n",
              "</style>\n",
              "<table border=\"1\" class=\"dataframe\">\n",
              "  <thead>\n",
              "    <tr style=\"text-align: right;\">\n",
              "      <th></th>\n",
              "      <th>school_state</th>\n",
              "      <th>teacher_prefix</th>\n",
              "      <th>project_grade_category</th>\n",
              "      <th>teacher_number_of_previously_posted_projects</th>\n",
              "      <th>project_is_approved</th>\n",
              "      <th>clean_categories</th>\n",
              "      <th>clean_subcategories</th>\n",
              "      <th>essay</th>\n",
              "      <th>price</th>\n",
              "      <th>neg</th>\n",
              "      <th>neu</th>\n",
              "      <th>pos</th>\n",
              "      <th>compound</th>\n",
              "    </tr>\n",
              "  </thead>\n",
              "  <tbody>\n",
              "    <tr>\n",
              "      <th>5420</th>\n",
              "      <td>co</td>\n",
              "      <td>mrs</td>\n",
              "      <td>grades_prek_2</td>\n",
              "      <td>0</td>\n",
              "      <td>1</td>\n",
              "      <td>literacy_language history_civics</td>\n",
              "      <td>literature_writing socialsciences</td>\n",
              "      <td>i lucky teacher 24 wonderful students my stude...</td>\n",
              "      <td>291.87</td>\n",
              "      <td>0.039</td>\n",
              "      <td>0.633</td>\n",
              "      <td>0.328</td>\n",
              "      <td>0.9949</td>\n",
              "    </tr>\n",
              "    <tr>\n",
              "      <th>28407</th>\n",
              "      <td>in</td>\n",
              "      <td>mr</td>\n",
              "      <td>grades_6_8</td>\n",
              "      <td>0</td>\n",
              "      <td>0</td>\n",
              "      <td>health_sports</td>\n",
              "      <td>gym_fitness</td>\n",
              "      <td>8th graders exploding seams energy we great bu...</td>\n",
              "      <td>596.80</td>\n",
              "      <td>0.016</td>\n",
              "      <td>0.651</td>\n",
              "      <td>0.334</td>\n",
              "      <td>0.9945</td>\n",
              "    </tr>\n",
              "    <tr>\n",
              "      <th>12138</th>\n",
              "      <td>nj</td>\n",
              "      <td>mrs</td>\n",
              "      <td>grades_3_5</td>\n",
              "      <td>4</td>\n",
              "      <td>1</td>\n",
              "      <td>math_science</td>\n",
              "      <td>environmentalscience health_lifescience</td>\n",
              "      <td>every student deserves resources needed succee...</td>\n",
              "      <td>72.37</td>\n",
              "      <td>0.028</td>\n",
              "      <td>0.816</td>\n",
              "      <td>0.155</td>\n",
              "      <td>0.9413</td>\n",
              "    </tr>\n",
              "    <tr>\n",
              "      <th>14782</th>\n",
              "      <td>md</td>\n",
              "      <td>ms</td>\n",
              "      <td>grades_prek_2</td>\n",
              "      <td>16</td>\n",
              "      <td>1</td>\n",
              "      <td>literacy_language math_science</td>\n",
              "      <td>literature_writing mathematics</td>\n",
              "      <td>these upcoming 1st graders enthusiastic learne...</td>\n",
              "      <td>244.49</td>\n",
              "      <td>0.035</td>\n",
              "      <td>0.696</td>\n",
              "      <td>0.269</td>\n",
              "      <td>0.9879</td>\n",
              "    </tr>\n",
              "    <tr>\n",
              "      <th>6786</th>\n",
              "      <td>tx</td>\n",
              "      <td>mrs</td>\n",
              "      <td>grades_3_5</td>\n",
              "      <td>2</td>\n",
              "      <td>0</td>\n",
              "      <td>literacy_language</td>\n",
              "      <td>literature_writing</td>\n",
              "      <td>my school title i school best students planet ...</td>\n",
              "      <td>273.00</td>\n",
              "      <td>0.018</td>\n",
              "      <td>0.571</td>\n",
              "      <td>0.411</td>\n",
              "      <td>0.9963</td>\n",
              "    </tr>\n",
              "  </tbody>\n",
              "</table>\n",
              "</div>"
            ],
            "text/plain": [
              "      school_state teacher_prefix project_grade_category  \\\n",
              "5420            co            mrs          grades_prek_2   \n",
              "28407           in             mr             grades_6_8   \n",
              "12138           nj            mrs             grades_3_5   \n",
              "14782           md             ms          grades_prek_2   \n",
              "6786            tx            mrs             grades_3_5   \n",
              "\n",
              "       teacher_number_of_previously_posted_projects  project_is_approved  \\\n",
              "5420                                              0                    1   \n",
              "28407                                             0                    0   \n",
              "12138                                             4                    1   \n",
              "14782                                            16                    1   \n",
              "6786                                              2                    0   \n",
              "\n",
              "                       clean_categories  \\\n",
              "5420   literacy_language history_civics   \n",
              "28407                     health_sports   \n",
              "12138                      math_science   \n",
              "14782    literacy_language math_science   \n",
              "6786                  literacy_language   \n",
              "\n",
              "                           clean_subcategories  \\\n",
              "5420         literature_writing socialsciences   \n",
              "28407                              gym_fitness   \n",
              "12138  environmentalscience health_lifescience   \n",
              "14782           literature_writing mathematics   \n",
              "6786                        literature_writing   \n",
              "\n",
              "                                                   essay   price    neg  \\\n",
              "5420   i lucky teacher 24 wonderful students my stude...  291.87  0.039   \n",
              "28407  8th graders exploding seams energy we great bu...  596.80  0.016   \n",
              "12138  every student deserves resources needed succee...   72.37  0.028   \n",
              "14782  these upcoming 1st graders enthusiastic learne...  244.49  0.035   \n",
              "6786   my school title i school best students planet ...  273.00  0.018   \n",
              "\n",
              "         neu    pos  compound  \n",
              "5420   0.633  0.328    0.9949  \n",
              "28407  0.651  0.334    0.9945  \n",
              "12138  0.816  0.155    0.9413  \n",
              "14782  0.696  0.269    0.9879  \n",
              "6786   0.571  0.411    0.9963  "
            ]
          },
          "metadata": {
            "tags": []
          },
          "execution_count": 14
        }
      ]
    },
    {
      "cell_type": "markdown",
      "metadata": {
        "id": "k8MxGRDPWQCT"
      },
      "source": [
        "<h2>1.4 Make Data Model Ready: encoding eassay with TFDF W2v and create numerical features without normalisation</h2>"
      ]
    },
    {
      "cell_type": "code",
      "metadata": {
        "id": "KnFoKO_DWQCT"
      },
      "source": [
        "X1_train = X_train[['price', 'teacher_number_of_previously_posted_projects', 'neg', 'neu', 'pos', 'compound']]\n",
        "X1_test = X_test[['price', 'teacher_number_of_previously_posted_projects', 'neg', 'neu', 'pos', 'compound']]"
      ],
      "execution_count": null,
      "outputs": []
    },
    {
      "cell_type": "code",
      "metadata": {
        "id": "KTdHT3nVWQCT"
      },
      "source": [
        "x1_train = X1_train.to_numpy()\n",
        "x1_test = X1_test.to_numpy()"
      ],
      "execution_count": null,
      "outputs": []
    },
    {
      "cell_type": "code",
      "metadata": {
        "id": "t9LtvXp0WQCT"
      },
      "source": [
        "with open('glove_vectors', 'rb') as f:\n",
        "    model = pickle.load(f)\n",
        "    glove_words =  set(model.keys())"
      ],
      "execution_count": null,
      "outputs": []
    },
    {
      "cell_type": "code",
      "metadata": {
        "id": "rdEbEuwpWQCU"
      },
      "source": [
        "tfidf_model = TfidfVectorizer()\n",
        "tfidf_model.fit(X_train['essay'].values)\n",
        "# we are converting a dictionary with word as a key, and the idf as a value\n",
        "dictionary = dict(zip(tfidf_model.get_feature_names(), list(tfidf_model.idf_)))\n",
        "tfidf_words = set(tfidf_model.get_feature_names())"
      ],
      "execution_count": null,
      "outputs": []
    },
    {
      "cell_type": "code",
      "metadata": {
        "id": "X4qCeNsZWQCU",
        "outputId": "d5c6518a-e131-446b-9d51-7f938bd02298"
      },
      "source": [
        "# average Word2Vec\n",
        "# compute average word2vec for each review.\n",
        "tfidf_w2v_vectors = []; # the avg-w2v for each sentence/review is stored in this list\n",
        "for sentence in tqdm(X_train['essay'].values): # for each review/sentence\n",
        "    vector = np.zeros(300) # as word vectors are of zero length\n",
        "    tf_idf_weight =0; # num of words with a valid vector in the sentence/review\n",
        "    for word in sentence.split(): # for each word in a review/sentence\n",
        "        if (word in glove_words) and (word in tfidf_words):\n",
        "            vec = model[word] # getting the vector for each word\n",
        "            # here we are multiplying idf value(dictionary[word]) and the tf value((sentence.count(word)/len(sentence.split())))\n",
        "            tf_idf = dictionary[word]*(sentence.count(word)/len(sentence.split())) # getting the tfidf value for each word\n",
        "            vector += (vec * tf_idf) # calculating tfidf weighted w2v\n",
        "            tf_idf_weight += tf_idf\n",
        "    if tf_idf_weight != 0:\n",
        "        vector /= tf_idf_weight\n",
        "    tfidf_w2v_vectors.append(vector)\n",
        "\n",
        "print(len(tfidf_w2v_vectors))\n",
        "print(len(tfidf_w2v_vectors[0]))\n",
        "train_tfidf_w2v_vectors_essay = np.array(tfidf_w2v_vectors)\n",
        "print(train_tfidf_w2v_vectors_essay.shape, y_train.shape)\n"
      ],
      "execution_count": null,
      "outputs": [
        {
          "output_type": "stream",
          "text": [
            "100%|█████████████████████████████████████████████████████████████████████████| 20100/20100 [00:00<00:00, 25633.85it/s]"
          ],
          "name": "stderr"
        },
        {
          "output_type": "stream",
          "text": [
            "20100\n",
            "300\n",
            "(20100, 300) (20100,)\n"
          ],
          "name": "stdout"
        },
        {
          "output_type": "stream",
          "text": [
            "\n"
          ],
          "name": "stderr"
        }
      ]
    },
    {
      "cell_type": "code",
      "metadata": {
        "id": "C9FjTSh9WQCU"
      },
      "source": [
        "tfidf_model = TfidfVectorizer()\n",
        "tfidf_model.fit(X_test['essay'].values)\n",
        "# we are converting a dictionary with word as a key, and the idf as a value\n",
        "dictionary = dict(zip(tfidf_model.get_feature_names(), list(tfidf_model.idf_)))\n",
        "tfidf_words = set(tfidf_model.get_feature_names())"
      ],
      "execution_count": null,
      "outputs": []
    },
    {
      "cell_type": "code",
      "metadata": {
        "id": "nFReYDMQWQCU",
        "outputId": "d33b23ec-38dc-4fea-c3b9-c7345b58448b"
      },
      "source": [
        "# average Word2Vec\n",
        "# compute average word2vec for each review.\n",
        "tfidf_w2v_vectors = []; # the avg-w2v for each sentence/review is stored in this list\n",
        "for sentence in tqdm(X_test['essay'].values): # for each review/sentence\n",
        "    vector = np.zeros(300) # as word vectors are of zero length\n",
        "    tf_idf_weight =0; # num of words with a valid vector in the sentence/review\n",
        "    for word in sentence.split(): # for each word in a review/sentence\n",
        "        if (word in glove_words) and (word in tfidf_words):\n",
        "            vec = model[word] # getting the vector for each word\n",
        "            # here we are multiplying idf value(dictionary[word]) and the tf value((sentence.count(word)/len(sentence.split())))\n",
        "            tf_idf = dictionary[word]*(sentence.count(word)/len(sentence.split())) # getting the tfidf value for each word\n",
        "            vector += (vec * tf_idf) # calculating tfidf weighted w2v\n",
        "            tf_idf_weight += tf_idf\n",
        "    if tf_idf_weight != 0:\n",
        "        vector /= tf_idf_weight\n",
        "    tfidf_w2v_vectors.append(vector)\n",
        "\n",
        "print(len(tfidf_w2v_vectors))\n",
        "print(len(tfidf_w2v_vectors[0]))\n",
        "test_tfidf_w2v_vectors_essay = np.array(tfidf_w2v_vectors)\n",
        "print(test_tfidf_w2v_vectors_essay.shape, y_test.shape)"
      ],
      "execution_count": null,
      "outputs": [
        {
          "output_type": "stream",
          "text": [
            "100%|███████████████████████████████████████████████████████████████████████████| 9900/9900 [00:00<00:00, 25954.79it/s]"
          ],
          "name": "stderr"
        },
        {
          "output_type": "stream",
          "text": [
            "9900\n",
            "300\n",
            "(9900, 300) (9900,)\n"
          ],
          "name": "stdout"
        },
        {
          "output_type": "stream",
          "text": [
            "\n"
          ],
          "name": "stderr"
        }
      ]
    },
    {
      "cell_type": "markdown",
      "metadata": {
        "id": "ceP6tK_kWQCV"
      },
      "source": [
        "<h2>1.5 Make Data Model Ready: encoding categorical features with response coding</h2>"
      ]
    },
    {
      "cell_type": "markdown",
      "metadata": {
        "id": "vtQ-KN6KWQCV"
      },
      "source": [
        "## Calculate Response Coding "
      ]
    },
    {
      "cell_type": "code",
      "metadata": {
        "id": "MOKMC_zVWQCV"
      },
      "source": [
        "# here I have used whole function from cancer diognise casestudy and understood it how it works \n",
        "# in response coding we get two probability output at each feature category\n",
        "# for example, in this case we have feature called teacher prefix so we get two feature output for each category such as Mrs\n",
        "# we can calculate by counting probabilty with respect to class label \n",
        "\n",
        "# first we creating function which takes parameter alpha which is laplace smoothing 1, fetaure (i.e teacher_prefix),\n",
        "# and dataset which contain y_class label\n",
        "\n",
        "def get_fea_dict(alpha, feature, df):\n",
        "    \n",
        "    value_count = df[feature].value_counts() #here we are counting total category of each feature\n",
        "    \n",
        "    \n",
        "    fea_dict = dict() # here we creating dict\n",
        "    \n",
        "    # denominator will contain the number of time that particular feature occured in whole data\n",
        "    for i, denominator in value_count.items(): \n",
        "        \n",
        "        vec = []\n",
        "        for k in range(0,2): # here k takes two values 0 and 1 since we have two class label\n",
        "            \n",
        "\n",
        "            cls_cnt = df.loc[(df['project_is_approved']==k) & (df[feature]==i)] # here getting those values where fetaure \n",
        "            # category occur respect to class label (i.e project_approved = 1 & teacher_prefix = Mrs)\n",
        "            # it will count for each feature category value\n",
        "            \n",
        "            # cls_cnt.shape[0](numerator) will contain the number of time that particular feature occured in whole data\n",
        "            vec.append((cls_cnt.shape[0] + alpha)/ (denominator + 2*alpha)) # here we are calculating probabilty value\\\n",
        "                                    # In denominator N + alpha * k here k is class label which is 2 in our case\n",
        "\n",
        "        \n",
        "        fea_dict[i]=vec\n",
        "    return fea_dict\n",
        "\n",
        "# Get feature values\n",
        "def get_feature(alpha, feature, df):\n",
        "    \n",
        "    fea_dict = get_fea_dict(alpha, feature, df)\n",
        "    # value_count is similar in get_fea_dict\n",
        "    value_count = df[feature].value_counts()\n",
        "    \n",
        "    \n",
        "    fea_value = []\n",
        "    # for every feature values in the given data frame we will check if it is there in the train data then we will add the feature to fea_value\n",
        "    # if not we will add [1/2,1/2] to fea_value\n",
        "    for index, row in df.iterrows():\n",
        "        if row[feature] in dict(value_count).keys():\n",
        "            fea_value.append(fea_dict[row[feature]])\n",
        "        else:\n",
        "            fea_value.append([1/2,1/2])\n",
        "            \n",
        "    return fea_value"
      ],
      "execution_count": null,
      "outputs": []
    },
    {
      "cell_type": "code",
      "metadata": {
        "id": "b_VMuXjMWQCV",
        "outputId": "2971de8b-2d37-4133-b3cb-b68d07e637d7"
      },
      "source": [
        "alpha = 1\n",
        "# train gene feature\n",
        "train_data_schoolstate_feature_responseCoding = np.array(get_feature(alpha, \"school_state\", X_train))\n",
        "test_data_schoolstate_feature_responseCoding = np.array(get_feature(alpha, \"school_state\", X_test))\n",
        "\n",
        "print(train_data_schoolstate_feature_responseCoding.shape, y_train.shape)\n",
        "print(test_data_schoolstate_feature_responseCoding.shape, y_test.shape)"
      ],
      "execution_count": null,
      "outputs": [
        {
          "output_type": "stream",
          "text": [
            "(20100, 2) (20100,)\n",
            "(9900, 2) (9900,)\n"
          ],
          "name": "stdout"
        }
      ]
    },
    {
      "cell_type": "code",
      "metadata": {
        "id": "QAyJGJnUWQCW",
        "outputId": "db755810-c932-4c3c-dfed-045bac74b6db"
      },
      "source": [
        "train_data_teacherprefix_feature_responseCoding = np.array(get_feature(alpha, \"teacher_prefix\", X_train))\n",
        "test_data_teacherprefix_feature_responseCoding = np.array(get_feature(alpha, \"teacher_prefix\", X_test))\n",
        "\n",
        "print(train_data_teacherprefix_feature_responseCoding.shape, y_train.shape)\n",
        "print(test_data_teacherprefix_feature_responseCoding.shape, y_test.shape)"
      ],
      "execution_count": null,
      "outputs": [
        {
          "output_type": "stream",
          "text": [
            "(20100, 2) (20100,)\n",
            "(9900, 2) (9900,)\n"
          ],
          "name": "stdout"
        }
      ]
    },
    {
      "cell_type": "code",
      "metadata": {
        "id": "LFDRSCV6WQCW",
        "outputId": "f3a68d8b-0ff9-4c72-b325-86c3be963fe8"
      },
      "source": [
        "train_data_gradcategory_feature_responseCoding = np.array(get_feature(alpha, \"project_grade_category\", X_train))\n",
        "test_data_gradcategory_feature_responseCoding = np.array(get_feature(alpha, \"project_grade_category\", X_test))\n",
        "\n",
        "print(train_data_gradcategory_feature_responseCoding.shape, y_train.shape)\n",
        "print(test_data_gradcategory_feature_responseCoding.shape, y_test.shape)"
      ],
      "execution_count": null,
      "outputs": [
        {
          "output_type": "stream",
          "text": [
            "(20100, 2) (20100,)\n",
            "(9900, 2) (9900,)\n"
          ],
          "name": "stdout"
        }
      ]
    },
    {
      "cell_type": "code",
      "metadata": {
        "id": "yRQ3NDBwWQCW",
        "outputId": "8cd6ba52-5d58-42a6-8156-36bd78c78720"
      },
      "source": [
        "train_data_cleancategories_feature_responseCoding = np.array(get_feature(alpha, \"clean_categories\", X_train))\n",
        "test_data_cleancategories_feature_responseCoding = np.array(get_feature(alpha, \"clean_categories\", X_test))\n",
        "\n",
        "print(train_data_cleancategories_feature_responseCoding.shape, y_train.shape)\n",
        "print(test_data_cleancategories_feature_responseCoding.shape, y_test.shape)"
      ],
      "execution_count": null,
      "outputs": [
        {
          "output_type": "stream",
          "text": [
            "(20100, 2) (20100,)\n",
            "(9900, 2) (9900,)\n"
          ],
          "name": "stdout"
        }
      ]
    },
    {
      "cell_type": "code",
      "metadata": {
        "id": "bqYLiYwMWQCW",
        "outputId": "7f14ce07-6c3e-4c8e-8975-b85769c6f977"
      },
      "source": [
        "train_data_cleansubcategories_feature_responseCoding = np.array(get_feature(alpha, \"clean_subcategories\", X_train))\n",
        "test_data_cleansubcategories_feature_responseCoding = np.array(get_feature(alpha, \"clean_subcategories\", X_test))\n",
        "\n",
        "print(train_data_cleansubcategories_feature_responseCoding.shape, y_train.shape)\n",
        "print(test_data_cleansubcategories_feature_responseCoding.shape, y_test.shape)"
      ],
      "execution_count": null,
      "outputs": [
        {
          "output_type": "stream",
          "text": [
            "(20100, 2) (20100,)\n",
            "(9900, 2) (9900,)\n"
          ],
          "name": "stdout"
        }
      ]
    },
    {
      "cell_type": "code",
      "metadata": {
        "id": "hRbNn0tQWQCW",
        "outputId": "c0d23e6a-fbf9-4090-d26f-decd92b6c73e"
      },
      "source": [
        "# merge two sparse matrices: https://stackoverflow.com/a/19710648/4084039\n",
        "from scipy.sparse import hstack\n",
        "X_tr_1 = hstack((train_tfidf_w2v_vectors_essay, train_data_schoolstate_feature_responseCoding, train_data_teacherprefix_feature_responseCoding.shape, train_data_gradcategory_feature_responseCoding, train_data_cleancategories_feature_responseCoding, train_data_cleansubcategories_feature_responseCoding, X1_train)).tocsr()\n",
        "X_te_1 = hstack((test_tfidf_w2v_vectors_essay, test_data_schoolstate_feature_responseCoding, test_data_teacherprefix_feature_responseCoding.shape, test_data_gradcategory_feature_responseCoding, test_data_cleancategories_feature_responseCoding, test_data_cleansubcategories_feature_responseCoding, X1_test)).tocsr()\n",
        "\n",
        "print(\"Final Data matrix\")\n",
        "print(X_tr_1.shape, y_train.shape)\n",
        "print(X_te_1.shape, y_test.shape)\n",
        "print(\"=\"*100)"
      ],
      "execution_count": null,
      "outputs": [
        {
          "output_type": "stream",
          "text": [
            "Final Data matrix\n",
            "(20100, 316) (20100,)\n",
            "(9900, 316) (9900,)\n",
            "====================================================================================================\n"
          ],
          "name": "stdout"
        }
      ]
    },
    {
      "cell_type": "markdown",
      "metadata": {
        "id": "v29ruCkMWQCX"
      },
      "source": [
        "<h2>1.6 Building model with XGBooost implementation with GridSearchCV</h2>\n",
        "\n",
        "#### Here I have tried scale_pose_weight parameter to balanced data "
      ]
    },
    {
      "cell_type": "code",
      "metadata": {
        "id": "EA7Dg4lfWQCX",
        "outputId": "435ace37-427c-4923-b1a5-09d89918c460"
      },
      "source": [
        "#https://machinelearningmastery.com/xgboost-for-imbalanced-classification/\n",
        "\n",
        "counter = Counter(y)\n",
        "# estimate scale_pos_weight value\n",
        "estimate = counter[0] / counter[1]\n",
        "print('Estimate: %.3f' % estimate)"
      ],
      "execution_count": null,
      "outputs": [
        {
          "output_type": "stream",
          "text": [
            "Estimate: 0.182\n"
          ],
          "name": "stdout"
        }
      ]
    },
    {
      "cell_type": "code",
      "metadata": {
        "id": "S3-mbepTWQCX"
      },
      "source": [
        "# https://stackoverflow.com/questions/48377296/get-feature-importance-from-gridsearchcv\n",
        "# https://scikit-learn.org/stable/modules/generated/sklearn.model_selection.GridSearchCV.html\n",
        "#https://machinelearningmastery.com/tune-number-size-decision-trees-xgboost-python/#:~:text=The%20number%20of%20trees%20(or,the%20XGBoost%20library%20is%20100.\n",
        "from sklearn.metrics import roc_auc_score\n",
        "import matplotlib.pyplot as plt\n",
        "from sklearn.model_selection import train_test_split\n",
        "from sklearn.model_selection import GridSearchCV\n",
        "from sklearn.model_selection import cross_val_score\n",
        "from xgboost import XGBClassifier\n",
        "\n",
        "\n",
        "XGBC_1 = XGBClassifier(scale_pos_weight = 0.182)\n",
        "parameters = {'max_depth': [1, 2, 3], 'n_estimators': [50, 100, 150]}\n",
        "XGB_1 = GridSearchCV(XGBC_1, parameters, cv=3, scoring='roc_auc',return_train_score=True)\n",
        "set1 = XGB_1.fit(X_tr_1, y_train)"
      ],
      "execution_count": null,
      "outputs": []
    },
    {
      "cell_type": "markdown",
      "metadata": {
        "id": "oRp4avG2WQCX"
      },
      "source": [
        "<h2>1.7 plot the performance of model both on train data and cross validation data for each hyper parameter</h2> "
      ]
    },
    {
      "cell_type": "code",
      "metadata": {
        "id": "EMmRw45WWQCX",
        "outputId": "e8336aee-43d9-409f-c928-fcc881ef4f47"
      },
      "source": [
        "import seaborn as sns; sns.set()\n",
        "max_scores1 = pd.DataFrame(XGB_1.cv_results_).groupby(['param_n_estimators', 'param_max_depth']).max().unstack()[['mean_test_score', 'mean_train_score']]\n",
        "fig, ax = plt.subplots(1,2, figsize=(20,6))\n",
        "sns.heatmap(max_scores1.mean_train_score, annot = True, fmt='.4g', ax=ax[0])\n",
        "sns.heatmap(max_scores1.mean_test_score, annot = True, fmt='.4g', ax=ax[1])\n",
        "ax[0].set_title('Train Set')\n",
        "ax[1].set_title('CV Set')\n",
        "plt.show()"
      ],
      "execution_count": null,
      "outputs": [
        {
          "output_type": "display_data",
          "data": {
            "image/png": "[encoded data removed]",
            "text/plain": [
              "<Figure size 1440x432 with 4 Axes>"
            ]
          },
          "metadata": {
            "tags": []
          }
        }
      ]
    },
    {
      "cell_type": "code",
      "metadata": {
        "id": "m5DAxbWJWQCY",
        "outputId": "70de5bd8-e6a4-4251-afbf-3f0dfd8ac34e"
      },
      "source": [
        "print(XGB_1.best_estimator_)\n",
        "print(\"Using the best parametrs predict the best score for Test\", XGB_1.score(X_tr_1,y_train))\n",
        "print(\"Using the best parametrs predict the best score for Test\",XGB_1.score(X_te_1,y_test))"
      ],
      "execution_count": null,
      "outputs": [
        {
          "output_type": "stream",
          "text": [
            "XGBClassifier(max_depth=2, n_estimators=150, scale_pos_weight=0.182)\n",
            "Using the best parametrs predict the best score for Test 0.6961408918406072\n",
            "Using the best parametrs predict the best score for Test 0.6877267350828524\n"
          ],
          "name": "stdout"
        }
      ]
    },
    {
      "cell_type": "markdown",
      "metadata": {
        "id": "0u3tEbpoWQCY"
      },
      "source": [
        "<h2>1.8 Building XGBoost after hyperparameter tuning and show AUC_ROC curve and score</h2>"
      ]
    },
    {
      "cell_type": "code",
      "metadata": {
        "id": "nci0DEPMWQCY",
        "outputId": "ab59d6c1-a4ec-44c5-c77d-ede2b4dd28f7"
      },
      "source": [
        "# https://scikitlearn.org/stable/modules/generated/sklearn.metrics.roc_curve.html#sklearn.metrics.roc_curve\n",
        "from sklearn.metrics import roc_curve, auc\n",
        "from xgboost import XGBClassifier\n",
        "from sklearn.metrics import roc_curve, auc\n",
        "XGBC1=XGBClassifier( scale_pos_weight = 0.182, max_depth=2, n_estimators=150) #scale_pos_weight = 5.484\n",
        "XGBC1.fit(X_tr_1, y_train)\n",
        "y_train_pred1 = XGBC1.predict_proba(X_tr_1) [:,1]\n",
        "y_test_pred1 = XGBC1.predict_proba(X_te_1) [:,1]\n",
        "train_fpr1, train_tpr1, tr_thresholds1 = roc_curve(y_train, y_train_pred1)\n",
        "test_fpr1, test_tpr1, te_thresholds1 = roc_curve(y_test, y_test_pred1)\n",
        "plt.plot(train_fpr1, train_tpr1, label=\"train AUC =\"+str(auc(train_fpr1, train_tpr1)))\n",
        "plt.plot(test_fpr1, test_tpr1, label=\"test AUC =\"+str(auc(test_fpr1, test_tpr1)))\n",
        "plt.legend()\n",
        "plt.xlabel(\"False Positive Rate\")\n",
        "plt.ylabel(\"True Positive Rate\")\n",
        "plt.title(\"ERROR PLOTS\")\n",
        "plt.grid(True)\n",
        "plt.show()"
      ],
      "execution_count": null,
      "outputs": [
        {
          "output_type": "display_data",
          "data": {
            "image/png": "[encoded data removed]",
            "text/plain": [
              "<Figure size 432x288 with 1 Axes>"
            ]
          },
          "metadata": {
            "tags": []
          }
        }
      ]
    },
    {
      "cell_type": "code",
      "metadata": {
        "id": "A3KtDQzWWQCY"
      },
      "source": [
        "def find_best_threshold(threshould, fpr, tpr):\n",
        "    t = threshould[np.argmax(tpr*(1-fpr))]\n",
        "    # (tpr*(1-fpr)) will be maximum if your fpr is very low and tpr is very high\n",
        "    print(\"the maximum value of tpr*(1-fpr)\", max(tpr*(1-fpr)), \"for threshold\", np.round(t,3))\n",
        "    return t\n",
        "\n",
        "def predict_with_best_t(proba, threshould):\n",
        "    predictions = []\n",
        "    for i in proba:\n",
        "        if i>=threshould:\n",
        "            predictions.append(1)\n",
        "        else:\n",
        "            predictions.append(0)\n",
        "    return predictions"
      ],
      "execution_count": null,
      "outputs": []
    },
    {
      "cell_type": "markdown",
      "metadata": {
        "id": "OIhpjs-vWQCY"
      },
      "source": [
        "<h2>1.9 Confusion matrix</h2>"
      ]
    },
    {
      "cell_type": "code",
      "metadata": {
        "id": "FTntXH8VWQCZ",
        "outputId": "8aacba56-3ff0-47ca-9344-8e662ecb5f78"
      },
      "source": [
        "#https://www.kaggle.com/agungor2/various-confusion-matrix-plots\n",
        "#https://medium.com/@dtuk81/confusion-matrix-visualization-fc31e3f30fea\n",
        "\n",
        "print(\"=\"*100)\n",
        "from sklearn.metrics import confusion_matrix\n",
        "best_t1 = find_best_threshold(tr_thresholds1, train_fpr1, train_tpr1)\n",
        "cm_train1 = confusion_matrix(y_train, predict_with_best_t(y_train_pred1, best_t1))\n",
        "cm_test1 = confusion_matrix(y_test, predict_with_best_t(y_test_pred1, best_t1))\n",
        "key = (np.asarray([['TN','FP'], ['FN', 'TP']]))\n",
        "fig, ax = plt.subplots(1,2, figsize=(15,5))\n",
        "labels_train = (np.asarray([\"{0} = {1:.2f}\" .format(key, value) for key, value in zip(key.flatten(), cm_train1.flatten())])).reshape(2,2)\n",
        "labels_test = (np.asarray([\"{0} = {1:.2f}\" .format(key, value) for key, value in zip(key.flatten(),\n",
        "cm_test1.flatten())])).reshape(2,2)\n",
        "sns.heatmap(cm_train1, linewidths=.5, xticklabels=['PREDICTED : NO', 'PREDICTED : YES'],yticklabels=['ACTUAL : NO', 'ACTUAL : YES'], annot = labels_train, fmt = '', ax=ax[0])\n",
        "sns.heatmap(cm_test1, linewidths=.5, xticklabels=['PREDICTED : NO', 'PREDICTED : YES'],yticklabels=['ACTUAL : NO', 'ACTUAL : YES'], annot = labels_test, fmt = '', ax=ax[1])\n",
        "ax[0].set_title('Train Set')\n",
        "ax[1].set_title('Test Set')\n",
        "plt.show()"
      ],
      "execution_count": null,
      "outputs": [
        {
          "output_type": "stream",
          "text": [
            "====================================================================================================\n",
            "the maximum value of tpr*(1-fpr) 0.40847738140417456 for threshold 0.496\n"
          ],
          "name": "stdout"
        },
        {
          "output_type": "display_data",
          "data": {
            "image/png": "[encoded data removed]",
            "text/plain": [
              "<Figure size 1080x360 with 4 Axes>"
            ]
          },
          "metadata": {
            "tags": []
          }
        }
      ]
    },
    {
      "cell_type": "markdown",
      "metadata": {
        "id": "z_fMjQPqWQCZ"
      },
      "source": [
        "# GBDT with TFIDF Response Coding"
      ]
    },
    {
      "cell_type": "markdown",
      "metadata": {
        "id": "r5mX3WvjWQCZ"
      },
      "source": [
        "<h2>2.1 GBDT with TFIDF and response coding with categorical features</h2>"
      ]
    },
    {
      "cell_type": "code",
      "metadata": {
        "id": "8LSTZTtRWQCZ",
        "outputId": "1ee5547a-76df-417d-952e-ed3736e2fcd8"
      },
      "source": [
        "vectorizer = TfidfVectorizer(min_df=10,ngram_range=(1,4), max_features=5000)\n",
        "vectorizer.fit(X_train['essay'].values) # fit has to happen only on train data\n",
        "vectorizer.fit(X_test['essay'].values)\n",
        "\n",
        "# we use the fitted CountVectorizer to convert the text to vector\n",
        "train_essay_tfidf = vectorizer.transform(X_train['essay'].values)\n",
        "test_essay_tfidf = vectorizer.transform(X_test['essay'].values)\n",
        "\n",
        "print(\"After vectorizations\")\n",
        "print(train_essay_tfidf.shape, y_train.shape)\n",
        "print(test_essay_tfidf.shape, y_test.shape)\n",
        "print(\"=\"*100)"
      ],
      "execution_count": null,
      "outputs": [
        {
          "output_type": "stream",
          "text": [
            "After vectorizations\n",
            "(20100, 5000) (20100,)\n",
            "(9900, 5000) (9900,)\n",
            "====================================================================================================\n"
          ],
          "name": "stdout"
        }
      ]
    },
    {
      "cell_type": "code",
      "metadata": {
        "id": "wKQ79UANWQCZ",
        "outputId": "c12cf08d-27df-4174-d3b9-a8785cf44d86"
      },
      "source": [
        "# merge two sparse matrices: https://stackoverflow.com/a/19710648/4084039\n",
        "from scipy.sparse import hstack\n",
        "X_tr_2 = hstack((train_essay_tfidf, train_data_schoolstate_feature_responseCoding, train_data_teacherprefix_feature_responseCoding.shape, train_data_gradcategory_feature_responseCoding, train_data_cleancategories_feature_responseCoding, train_data_cleansubcategories_feature_responseCoding, X1_train)).tocsr()\n",
        "X_te_2 = hstack((test_essay_tfidf, test_data_schoolstate_feature_responseCoding, test_data_teacherprefix_feature_responseCoding.shape, test_data_gradcategory_feature_responseCoding, test_data_cleancategories_feature_responseCoding, test_data_cleansubcategories_feature_responseCoding, X1_test)).tocsr()\n",
        "\n",
        "print(\"Final Data matrix\")\n",
        "print(X_tr_2.shape, y_train.shape)\n",
        "print(X_te_2.shape, y_test.shape)\n",
        "print(\"=\"*100)"
      ],
      "execution_count": null,
      "outputs": [
        {
          "output_type": "stream",
          "text": [
            "Final Data matrix\n",
            "(20100, 5016) (20100,)\n",
            "(9900, 5016) (9900,)\n",
            "====================================================================================================\n"
          ],
          "name": "stdout"
        }
      ]
    },
    {
      "cell_type": "markdown",
      "metadata": {
        "id": "kzST3SdrWQCa"
      },
      "source": [
        "<h2>2.2 Building model with XGBooost implementation with GridSearchCV</h2>\n",
        "\n",
        "#### Here I have tried scale_pose_weight parameter to balanced data "
      ]
    },
    {
      "cell_type": "code",
      "metadata": {
        "id": "eP2s-hR-WQCa"
      },
      "source": [
        "# https://stackoverflow.com/questions/48377296/get-feature-importance-from-gridsearchcv\n",
        "# https://scikit-learn.org/stable/modules/generated/sklearn.model_selection.GridSearchCV.html\n",
        "from sklearn.metrics import roc_auc_score\n",
        "import matplotlib.pyplot as plt\n",
        "from sklearn.model_selection import train_test_split\n",
        "from sklearn.model_selection import GridSearchCV\n",
        "from sklearn.model_selection import cross_val_score\n",
        "from xgboost import XGBClassifier\n",
        "\n",
        "\n",
        "XGBC_2 = XGBClassifier(scale_pos_weight = 0.182)\n",
        "parameters = {'max_depth': [1, 2, 3], 'n_estimators': [50, 100, 150]}\n",
        "XGB_2 = GridSearchCV(XGBC_2, parameters, cv=3, scoring='roc_auc',return_train_score=True)\n",
        "set2 = XGB_2.fit(X_tr_2, y_train)"
      ],
      "execution_count": null,
      "outputs": []
    },
    {
      "cell_type": "markdown",
      "metadata": {
        "id": "G3dxHmYpWQCa"
      },
      "source": [
        "<h2>2.3 plot the performance of model both on train data and cross validation data for each hyper parameter</h2> "
      ]
    },
    {
      "cell_type": "code",
      "metadata": {
        "id": "ZtY4rE6yWQCa",
        "outputId": "9b2fe5f8-15f6-4aca-e929-d60dd8d222be"
      },
      "source": [
        "import seaborn as sns; sns.set()\n",
        "max_scores2 = pd.DataFrame(XGB_1.cv_results_).groupby(['param_n_estimators', 'param_max_depth']).max().unstack()[['mean_test_score', 'mean_train_score']]\n",
        "fig, ax = plt.subplots(1,2, figsize=(20,6))\n",
        "sns.heatmap(max_scores2.mean_train_score, annot = True, fmt='.4g', ax=ax[0])\n",
        "sns.heatmap(max_scores2.mean_test_score, annot = True, fmt='.4g', ax=ax[1])\n",
        "ax[0].set_title('Train Set')\n",
        "ax[1].set_title('CV Set')\n",
        "plt.show()"
      ],
      "execution_count": null,
      "outputs": [
        {
          "output_type": "display_data",
          "data": {
            "image/png": "[encoded data removed]",
            "text/plain": [
              "<Figure size 1440x432 with 4 Axes>"
            ]
          },
          "metadata": {
            "tags": []
          }
        }
      ]
    },
    {
      "cell_type": "code",
      "metadata": {
        "id": "ggxCDOvrWQCa",
        "outputId": "632510e3-bb26-4519-bc7e-11519ef250fc"
      },
      "source": [
        "print(XGB_2.best_estimator_)\n",
        "print(\"Using the best parametrs predict the best score for Test\", XGB_2.score(X_tr_2,y_train))\n",
        "print(\"Using the best parametrs predict the best score for Test\",XGB_2.score(X_te_2,y_test))"
      ],
      "execution_count": null,
      "outputs": [
        {
          "output_type": "stream",
          "text": [
            "XGBClassifier(n_estimators=150, scale_pos_weight=0.182)\n",
            "Using the best parametrs predict the best score for Test 0.8484181404174572\n",
            "Using the best parametrs predict the best score for Test 0.7363091566266379\n"
          ],
          "name": "stdout"
        }
      ]
    },
    {
      "cell_type": "markdown",
      "metadata": {
        "id": "gR3gF7qZWQCa"
      },
      "source": [
        "<h2>2.4 Building XGBoost after hyperparameter tuning and show AUC_ROC curve and score</h2>"
      ]
    },
    {
      "cell_type": "code",
      "metadata": {
        "id": "KJedZK7qWQCb",
        "outputId": "92360e18-00b9-4592-faef-6d4ebb4636d3"
      },
      "source": [
        "# https://scikitlearn.org/stable/modules/generated/sklearn.metrics.roc_curve.html#sklearn.metrics.roc_curve\n",
        "from sklearn.metrics import roc_curve, auc\n",
        "from xgboost import XGBClassifier\n",
        "from sklearn.metrics import roc_curve, auc\n",
        "XGBC2=XGBClassifier(scale_pos_weight = 0.182, max_depth=2, n_estimators=150)\n",
        "XGBC2.fit(X_tr_2, y_train)\n",
        "y_train_pred2 = XGBC2.predict_proba(X_tr_2) [:,1]\n",
        "y_test_pred2 = XGBC2.predict_proba(X_te_2) [:,1]\n",
        "train_fpr2, train_tpr2, tr_thresholds2 = roc_curve(y_train, y_train_pred2)\n",
        "test_fpr2, test_tpr2, te_thresholds2 = roc_curve(y_test, y_test_pred2)\n",
        "plt.plot(train_fpr2, train_tpr2, label=\"train AUC =\"+str(auc(train_fpr2, train_tpr2)))\n",
        "plt.plot(test_fpr2, test_tpr2, label=\"test AUC =\"+str(auc(test_fpr2, test_tpr2)))\n",
        "plt.legend()\n",
        "plt.xlabel(\"False Positive Rate\")\n",
        "plt.ylabel(\"True Positive Rate\")\n",
        "plt.title(\"ERROR PLOTS\")\n",
        "plt.grid(True)\n",
        "plt.show()"
      ],
      "execution_count": null,
      "outputs": [
        {
          "output_type": "display_data",
          "data": {
            "image/png": "[encoded data removed]",
            "text/plain": [
              "<Figure size 432x288 with 1 Axes>"
            ]
          },
          "metadata": {
            "tags": []
          }
        }
      ]
    },
    {
      "cell_type": "code",
      "metadata": {
        "id": "cZZa3XoSWQCb"
      },
      "source": [
        "def find_best_threshold(threshould, fpr, tpr):\n",
        "    t = threshould[np.argmax(tpr*(1-fpr))]\n",
        "    # (tpr*(1-fpr)) will be maximum if your fpr is very low and tpr is very high\n",
        "    print(\"the maximum value of tpr*(1-fpr)\", max(tpr*(1-fpr)), \"for threshold\", np.round(t,3))\n",
        "    return t\n",
        "\n",
        "def predict_with_best_t(proba, threshould):\n",
        "    predictions = []\n",
        "    for i in proba:\n",
        "        if i>=threshould:\n",
        "            predictions.append(1)\n",
        "        else:\n",
        "            predictions.append(0)\n",
        "    return predictions"
      ],
      "execution_count": null,
      "outputs": []
    },
    {
      "cell_type": "markdown",
      "metadata": {
        "id": "ZmiKbyBqWQCb"
      },
      "source": [
        "<h2>2.5 Confusion matrix</h2>"
      ]
    },
    {
      "cell_type": "code",
      "metadata": {
        "id": "JBVs48J2WQCb",
        "outputId": "829b059a-4f35-44a1-c335-2281d6ea7f52"
      },
      "source": [
        "print(\"=\"*100)\n",
        "from sklearn.metrics import confusion_matrix\n",
        "best_t2 = find_best_threshold(tr_thresholds2, train_fpr2, train_tpr2)\n",
        "cm_train2 = confusion_matrix(y_train, predict_with_best_t(y_train_pred2, best_t2))\n",
        "cm_test2 = confusion_matrix(y_test, predict_with_best_t(y_test_pred2, best_t2))\n",
        "key = (np.asarray([['TN','FP'], ['FN', 'TP']]))\n",
        "fig, ax = plt.subplots(1,2, figsize=(15,5))\n",
        "labels_train = (np.asarray([\"{0} = {1:.2f}\" .format(key, value) for key, value in zip(key.flatten(), cm_train2.flatten())])).reshape(2,2)\n",
        "labels_test = (np.asarray([\"{0} = {1:.2f}\" .format(key, value) for key, value in zip(key.flatten(),\n",
        "cm_test2.flatten())])).reshape(2,2)\n",
        "sns.heatmap(cm_train2, linewidths=.5, xticklabels=['PREDICTED : NO', 'PREDICTED : YES'],yticklabels=['ACTUAL : NO', 'ACTUAL : YES'], annot = labels_train, fmt = '', ax=ax[0])\n",
        "sns.heatmap(cm_test2, linewidths=.5, xticklabels=['PREDICTED : NO', 'PREDICTED : YES'],yticklabels=['ACTUAL : NO', 'ACTUAL : YES'], annot = labels_test, fmt = '', ax=ax[1])\n",
        "ax[0].set_title('Train Set')\n",
        "ax[1].set_title('Test Set')\n",
        "plt.show()"
      ],
      "execution_count": null,
      "outputs": [
        {
          "output_type": "stream",
          "text": [
            "====================================================================================================\n",
            "the maximum value of tpr*(1-fpr) 0.5154588235294119 for threshold 0.496\n"
          ],
          "name": "stdout"
        },
        {
          "output_type": "display_data",
          "data": {
            "image/png": "[encoded data removed]",
            "text/plain": [
              "<Figure size 1080x360 with 4 Axes>"
            ]
          },
          "metadata": {
            "tags": []
          }
        }
      ]
    },
    {
      "cell_type": "markdown",
      "metadata": {
        "id": "azIVf59iWQCb"
      },
      "source": [
        "# Final Summary with Preety Table"
      ]
    },
    {
      "cell_type": "code",
      "metadata": {
        "id": "oP1Mf3v_WQCb",
        "outputId": "ae89dfb9-21d7-418b-c126-c44b2a9c4619"
      },
      "source": [
        "from prettytable import PrettyTable\n",
        "tb = PrettyTable()\n",
        "tb.field_names= (\" Vectorizer \", \" Max_depth \", \" n_estimators \",\" Test -AUC \" ,)\n",
        "tb.add_row([\" TFIDF W2V with Response Coding \", 2, 150, 0.687]) #'max_depth': [1, 2, 3], 'n_estimators': [50, 100, 150]\n",
        "tb.add_row([\" TF IDF with Response Coding\", 2, 150, 0.737 ])\n",
        "\n",
        "print(tb.get_string(titles = \"XGBoost - Observations\"))"
      ],
      "execution_count": null,
      "outputs": [
        {
          "output_type": "stream",
          "text": [
            "+----------------------------------+-------------+----------------+-------------+\n",
            "|            Vectorizer            |  Max_depth  |  n_estimators  |  Test -AUC  |\n",
            "+----------------------------------+-------------+----------------+-------------+\n",
            "|  TFIDF W2V with Response Coding  |      2      |      150       |    0.687    |\n",
            "|    TF IDF with Response Coding   |      2      |      150       |    0.737    |\n",
            "+----------------------------------+-------------+----------------+-------------+\n"
          ],
          "name": "stdout"
        }
      ]
    },
    {
      "cell_type": "code",
      "metadata": {
        "id": "KER3svJaWQCc"
      },
      "source": [
        ""
      ],
      "execution_count": null,
      "outputs": []
    }
  ]
}