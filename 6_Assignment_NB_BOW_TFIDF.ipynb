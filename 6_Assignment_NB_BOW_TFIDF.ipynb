{
 "cells": [
  {
   "cell_type": "markdown",
   "metadata": {
    "colab_type": "text",
    "id": "Dnubs-Nnb3cw"
   },
   "source": [
    "# Assignment 6: Apply NB"
   ]
  },
  {
   "cell_type": "markdown",
   "metadata": {
    "colab_type": "text",
    "id": "RW0zYHb5m_wI"
   },
   "source": [
    "<ol>\n",
    "    <li>Minimum data points need to be considered for people having 4GB RAM is <strong>50k</strong> and for 8GB RAM is <strong>100k</strong></li>\n",
    "    <li>When you are using ramdomsearchcv or gridsearchcv you need not split the data into X_train,X_cv,X_test. As the above methods use kfold. The model will learn better if train data is more so splitting to X_train,X_test will suffice.</li>\n",
    "    <li>If you are writing for loops to tune your model then you need split the data into X_train,X_cv,X_test.</li>\n",
    "    <li>While splitting the data explore stratify parameter. </li>\n",
    "    <li><strong>Apply Multinomial NB on these feature sets</strong></li>\n",
    "        <ul>\n",
    "            <li>Features that need to be considered</li> \n",
    "                <dl>\n",
    "                  <dt>essay</dt>\n",
    "                    <dd>while encoding essay, try to experiment with the max_features and n_grams parameter of vectorizers and see if it increases AUC score.</dd>\n",
    "                  <dt>categorical features</dt>\n",
    "                  <dd> - teacher_prefix</dd>\n",
    "                  <dd> - project_grade_category</dd>\n",
    "                  <dd> - school_state</dd>\n",
    "                  <dd> - clean_categories</dd>\n",
    "                  <dd> - clean_subcategories</dd>\n",
    "                  <dt>numerical features</dt>\n",
    "                  <dd> - price</dd>\n",
    "                  <dd> - teacher_number_of_previously_posted_projects</dd>\n",
    "                  <dd>while encoding the numerical features check <a href='https://imgur.com/ldZA1zg'>this</a> and <a href='https://ac-classroom-production.s3.amazonaws.com/public/COMMENT/Annotation_2020-05-21_225912_0lyZzN8.jpg'>this</a></dd>\n",
    "                </dl>    \n",
    "            <li><font color='red'>Set 1</font>: categorical, numerical features + preprocessed_eassay (BOW)</li>\n",
    "            <li><font color='red'>Set 2</font>: categorical, numerical features + preprocessed_eassay (TFIDF)</li>\n",
    "        </ul>\n",
    "    <li><strong>The hyper paramter tuning(find best alpha:smoothing parameter)</strong>\n",
    "        <ul>\n",
    "    <li>Consider alpha values in range: 10^-5 to 10^2 like [0.00001,0.0005, 0.0001,0.005,0.001,0.05,0.01,0.1,0.5,1,5,10,50,100]</li>\n",
    "    <li>Explore class_prior = [0.5, 0.5] parameter which can be present in MultinomialNB function(go through <a href='https://scikit-learn.org/stable/modules/generated/sklearn.naive_bayes.MultinomialNB.html'>this</a> ) then check how results might change.\n",
    "    <li>Find the best hyper parameter which will give the maximum <a href='https://www.appliedaicourse.com/course/applied-ai-course-online/lessons/receiver-operating-characteristic-curve-roc-curve-and-auc-1/'>AUC</a> value</li>\n",
    "    <li>For hyper parameter tuning using k-fold cross validation(use GridsearchCV or RandomsearchCV)/simple cross validation data (write for loop to iterate over hyper parameter values)</li>\n",
    "    <li>You need to plot the performance of model both on train data and cross validation data for each hyper parameter, like shown in the figure\n",
    "    <img src='https://i.imgur.com/hUv6aEy.jpg' width=300px><dd>-while plotting take log(alpha) on your X-axis so that it will be more readable</dd></li>\n",
    "    <li>Once after you found the best hyper parameter, you need to train your model with it, and find the AUC on test data and plot the ROC curve on both train and test.\n",
    "    <img src='https://imgur.com/q2P65L5.jpg' width=300px></li>\n",
    "    <li>Along with plotting ROC curve, you need to print the <a href='https://www.appliedaicourse.com/course/applied-ai-course-online/lessons/confusion-matrix-tpr-fpr-fnr-tnr-1/'>confusion matrix</a> with predicted and original labels of test data points\n",
    "        <img src='https://i.imgur.com/IdN5Ctv.png' width=300px><dd>-plot the confusion matrix in heatmaps, while plotting the confusion matrix go through the <a href='https://stackoverflow.com/questions/61748441/how-to-fix-the-values-displayed-in-a-confusion-matrix-in-exponential-form-to-nor'>link </a>\n",
    "</dd></li>\n",
    "        </ul>\n",
    "<li>find the top 20 features from either from feature <font color='red'>Set 1</font> or feature <font color='red'>Set 2</font> using values of `feature_log_prob_ ` parameter of `MultinomialNB` \n",
    "(https://scikit-learn.org/stable/modules/generated/sklearn.naive_bayes.MultinomialNB.html) and print <strong>BOTH</strong> positive as well as negative corresponding feature names. <dd> - go through the <a href='https://imgur.com/mWvE7gj'>link </a> </dd>\n",
    "    </li>\n",
    "    <li>You need to summarize the results at the end of the notebook, summarize it in the table format\n",
    "        <img src='http://i.imgur.com/YVpIGGE.jpg' width=400px>\n",
    "    </li>\n",
    "</ol>"
   ]
  },
  {
   "cell_type": "markdown",
   "metadata": {},
   "source": [
    "<h1>Naive Bayes</h1>"
   ]
  },
  {
   "cell_type": "markdown",
   "metadata": {
    "colab_type": "text",
    "id": "inzYCIaib3c3"
   },
   "source": [
    "<h1>1. Naive Bayes with BOW </h1>"
   ]
  },
  {
   "cell_type": "markdown",
   "metadata": {},
   "source": [
    "<h2>1.0 Import necessary libraries</h2>"
   ]
  },
  {
   "cell_type": "code",
   "execution_count": 40,
   "metadata": {},
   "outputs": [],
   "source": [
    "# Here I have used following references and modify as accordingly \n",
    "# https://www.kaggle.com/nikhilparmar9/naive-bayes-donorschoose-dataset\n",
    "# https://www.kaggle.com/nikhilparmar9/naive-bayes-donorschoose-dataset/data\n",
    "# https://scikit-learn.org/stable/modules/generated/sklearn.model_selection.GridSearchCV.html\n",
    "# https://github.com/pskadasi/DecisionTrees_DonorsChoose/blob/master/Copy_of_8_DonorsChoose_DT_(1).ipynb"
   ]
  },
  {
   "cell_type": "code",
   "execution_count": 3,
   "metadata": {
    "colab": {},
    "colab_type": "code",
    "id": "chpSjDaXm9KG"
   },
   "outputs": [],
   "source": [
    "%matplotlib inline\n",
    "import warnings\n",
    "warnings.filterwarnings(\"ignore\")\n",
    "\n",
    "import pandas as pd\n",
    "import numpy as np\n",
    "import nltk\n",
    "import matplotlib.pyplot as plt\n",
    "import seaborn as sns\n",
    "from sklearn.feature_extraction.text import TfidfVectorizer\n",
    "from sklearn.feature_extraction.text import CountVectorizer\n",
    "from sklearn.metrics import confusion_matrix\n",
    "from sklearn import metrics\n",
    "from sklearn.metrics import roc_curve, auc\n",
    "\n",
    "import re\n",
    "# Tutorial about Python regular expressions: https://pymotw.com/2/re/\n",
    "\n",
    "import pickle\n",
    "from tqdm import tqdm\n",
    "import os\n",
    "\n",
    "#from plotly import plotly\n",
    "#import plotly.offline as offline\n",
    "#import plotly.graph_objs as go\n",
    "#offline.init_notebook_mode()\n",
    "from collections import Counter"
   ]
  },
  {
   "cell_type": "markdown",
   "metadata": {
    "colab_type": "text",
    "id": "FYqCIxzFb3c5"
   },
   "source": [
    "## 1.1 Loading Data"
   ]
  },
  {
   "cell_type": "code",
   "execution_count": 4,
   "metadata": {
    "colab": {},
    "colab_type": "code",
    "id": "dA1jknyqb3c_"
   },
   "outputs": [
    {
     "data": {
      "text/html": [
       "<div>\n",
       "<style scoped>\n",
       "    .dataframe tbody tr th:only-of-type {\n",
       "        vertical-align: middle;\n",
       "    }\n",
       "\n",
       "    .dataframe tbody tr th {\n",
       "        vertical-align: top;\n",
       "    }\n",
       "\n",
       "    .dataframe thead th {\n",
       "        text-align: right;\n",
       "    }\n",
       "</style>\n",
       "<table border=\"1\" class=\"dataframe\">\n",
       "  <thead>\n",
       "    <tr style=\"text-align: right;\">\n",
       "      <th></th>\n",
       "      <th>school_state</th>\n",
       "      <th>teacher_prefix</th>\n",
       "      <th>project_grade_category</th>\n",
       "      <th>teacher_number_of_previously_posted_projects</th>\n",
       "      <th>project_is_approved</th>\n",
       "      <th>clean_categories</th>\n",
       "      <th>clean_subcategories</th>\n",
       "      <th>essay</th>\n",
       "      <th>price</th>\n",
       "    </tr>\n",
       "  </thead>\n",
       "  <tbody>\n",
       "    <tr>\n",
       "      <th>0</th>\n",
       "      <td>ca</td>\n",
       "      <td>mrs</td>\n",
       "      <td>grades_prek_2</td>\n",
       "      <td>53</td>\n",
       "      <td>1</td>\n",
       "      <td>math_science</td>\n",
       "      <td>appliedsciences health_lifescience</td>\n",
       "      <td>i fortunate enough use fairy tale stem kits cl...</td>\n",
       "      <td>725.05</td>\n",
       "    </tr>\n",
       "    <tr>\n",
       "      <th>1</th>\n",
       "      <td>ut</td>\n",
       "      <td>ms</td>\n",
       "      <td>grades_3_5</td>\n",
       "      <td>4</td>\n",
       "      <td>1</td>\n",
       "      <td>specialneeds</td>\n",
       "      <td>specialneeds</td>\n",
       "      <td>imagine 8 9 years old you third grade classroo...</td>\n",
       "      <td>213.03</td>\n",
       "    </tr>\n",
       "    <tr>\n",
       "      <th>2</th>\n",
       "      <td>ca</td>\n",
       "      <td>mrs</td>\n",
       "      <td>grades_prek_2</td>\n",
       "      <td>10</td>\n",
       "      <td>1</td>\n",
       "      <td>literacy_language</td>\n",
       "      <td>literacy</td>\n",
       "      <td>having class 24 students comes diverse learner...</td>\n",
       "      <td>329.00</td>\n",
       "    </tr>\n",
       "    <tr>\n",
       "      <th>3</th>\n",
       "      <td>ga</td>\n",
       "      <td>mrs</td>\n",
       "      <td>grades_prek_2</td>\n",
       "      <td>2</td>\n",
       "      <td>1</td>\n",
       "      <td>appliedlearning</td>\n",
       "      <td>earlydevelopment</td>\n",
       "      <td>i recently read article giving students choice...</td>\n",
       "      <td>481.04</td>\n",
       "    </tr>\n",
       "    <tr>\n",
       "      <th>4</th>\n",
       "      <td>wa</td>\n",
       "      <td>mrs</td>\n",
       "      <td>grades_3_5</td>\n",
       "      <td>2</td>\n",
       "      <td>1</td>\n",
       "      <td>literacy_language</td>\n",
       "      <td>literacy</td>\n",
       "      <td>my students crave challenge eat obstacles brea...</td>\n",
       "      <td>17.74</td>\n",
       "    </tr>\n",
       "  </tbody>\n",
       "</table>\n",
       "</div>"
      ],
      "text/plain": [
       "  school_state teacher_prefix project_grade_category  \\\n",
       "0           ca            mrs          grades_prek_2   \n",
       "1           ut             ms             grades_3_5   \n",
       "2           ca            mrs          grades_prek_2   \n",
       "3           ga            mrs          grades_prek_2   \n",
       "4           wa            mrs             grades_3_5   \n",
       "\n",
       "   teacher_number_of_previously_posted_projects  project_is_approved  \\\n",
       "0                                            53                    1   \n",
       "1                                             4                    1   \n",
       "2                                            10                    1   \n",
       "3                                             2                    1   \n",
       "4                                             2                    1   \n",
       "\n",
       "    clean_categories                 clean_subcategories  \\\n",
       "0       math_science  appliedsciences health_lifescience   \n",
       "1       specialneeds                        specialneeds   \n",
       "2  literacy_language                            literacy   \n",
       "3    appliedlearning                    earlydevelopment   \n",
       "4  literacy_language                            literacy   \n",
       "\n",
       "                                               essay   price  \n",
       "0  i fortunate enough use fairy tale stem kits cl...  725.05  \n",
       "1  imagine 8 9 years old you third grade classroo...  213.03  \n",
       "2  having class 24 students comes diverse learner...  329.00  \n",
       "3  i recently read article giving students choice...  481.04  \n",
       "4  my students crave challenge eat obstacles brea...   17.74  "
      ]
     },
     "execution_count": 4,
     "metadata": {},
     "output_type": "execute_result"
    }
   ],
   "source": [
    "project_df = pd.read_csv('preprocessed_data.csv')\n",
    "project_df.head()\n"
   ]
  },
  {
   "cell_type": "code",
   "execution_count": 5,
   "metadata": {},
   "outputs": [
    {
     "name": "stdout",
     "output_type": "stream",
     "text": [
      "(109248, 9)\n",
      "1    92706\n",
      "0    16542\n",
      "Name: project_is_approved, dtype: int64\n"
     ]
    }
   ],
   "source": [
    "print(project_df.shape)\n",
    "print(project_df['project_is_approved'].value_counts())"
   ]
  },
  {
   "cell_type": "code",
   "execution_count": 6,
   "metadata": {},
   "outputs": [
    {
     "data": {
      "text/html": [
       "<div>\n",
       "<style scoped>\n",
       "    .dataframe tbody tr th:only-of-type {\n",
       "        vertical-align: middle;\n",
       "    }\n",
       "\n",
       "    .dataframe tbody tr th {\n",
       "        vertical-align: top;\n",
       "    }\n",
       "\n",
       "    .dataframe thead th {\n",
       "        text-align: right;\n",
       "    }\n",
       "</style>\n",
       "<table border=\"1\" class=\"dataframe\">\n",
       "  <thead>\n",
       "    <tr style=\"text-align: right;\">\n",
       "      <th></th>\n",
       "      <th>school_state</th>\n",
       "      <th>teacher_prefix</th>\n",
       "      <th>project_grade_category</th>\n",
       "      <th>teacher_number_of_previously_posted_projects</th>\n",
       "      <th>clean_categories</th>\n",
       "      <th>clean_subcategories</th>\n",
       "      <th>essay</th>\n",
       "      <th>price</th>\n",
       "    </tr>\n",
       "  </thead>\n",
       "  <tbody>\n",
       "    <tr>\n",
       "      <th>0</th>\n",
       "      <td>ca</td>\n",
       "      <td>mrs</td>\n",
       "      <td>grades_prek_2</td>\n",
       "      <td>53</td>\n",
       "      <td>math_science</td>\n",
       "      <td>appliedsciences health_lifescience</td>\n",
       "      <td>i fortunate enough use fairy tale stem kits cl...</td>\n",
       "      <td>725.05</td>\n",
       "    </tr>\n",
       "  </tbody>\n",
       "</table>\n",
       "</div>"
      ],
      "text/plain": [
       "  school_state teacher_prefix project_grade_category  \\\n",
       "0           ca            mrs          grades_prek_2   \n",
       "\n",
       "   teacher_number_of_previously_posted_projects clean_categories  \\\n",
       "0                                            53     math_science   \n",
       "\n",
       "                  clean_subcategories  \\\n",
       "0  appliedsciences health_lifescience   \n",
       "\n",
       "                                               essay   price  \n",
       "0  i fortunate enough use fairy tale stem kits cl...  725.05  "
      ]
     },
     "execution_count": 6,
     "metadata": {},
     "output_type": "execute_result"
    }
   ],
   "source": [
    "y = project_df['project_is_approved'].values\n",
    "X = project_df.drop(['project_is_approved'], axis=1)\n",
    "X.head(1)"
   ]
  },
  {
   "cell_type": "markdown",
   "metadata": {
    "colab_type": "text",
    "id": "WtVV13Fyb3dH"
   },
   "source": [
    "<h2>1.2 Splitting data into Train and cross validation(or test): Stratified Sampling</h2>"
   ]
  },
  {
   "cell_type": "code",
   "execution_count": 7,
   "metadata": {
    "colab": {},
    "colab_type": "code",
    "id": "i-PyprDNb3dI"
   },
   "outputs": [],
   "source": [
    "from sklearn.model_selection import train_test_split\n",
    "X_train, X_test, y_train, y_test = train_test_split(X, y, test_size=0.33, stratify=y)\n"
   ]
  },
  {
   "cell_type": "markdown",
   "metadata": {
    "colab_type": "text",
    "id": "EnZwVNULb3dO"
   },
   "source": [
    "<h2>1.3 Make Data Model Ready: encoding eassay</h2>"
   ]
  },
  {
   "cell_type": "code",
   "execution_count": 8,
   "metadata": {
    "colab": {},
    "colab_type": "code",
    "id": "-SczZKiab3dR"
   },
   "outputs": [
    {
     "name": "stdout",
     "output_type": "stream",
     "text": [
      "(73196, 8) (73196,)\n",
      "(36052, 8) (36052,)\n",
      "====================================================================================================\n",
      "After vectorizations\n",
      "(73196, 5000) (73196,)\n",
      "(36052, 5000) (36052,)\n",
      "====================================================================================================\n"
     ]
    }
   ],
   "source": [
    "print(X_train.shape, y_train.shape)\n",
    "print(X_test.shape, y_test.shape)\n",
    "\n",
    "print(\"=\"*100)\n",
    "\n",
    "\n",
    "vectorizer1 = CountVectorizer(min_df=10,ngram_range=(1,4), max_features=5000)\n",
    "vectorizer1.fit(X_train['essay'].values) # fit has to happen only on train data\n",
    "\n",
    "# we use the fitted CountVectorizer to convert the text to vector\n",
    "X_train_essay_bow = vectorizer1.transform(X_train['essay'].values)\n",
    "X_test_essay_bow = vectorizer1.transform(X_test['essay'].values)\n",
    "\n",
    "print(\"After vectorizations\")\n",
    "print(X_train_essay_bow.shape, y_train.shape)\n",
    "print(X_test_essay_bow.shape, y_test.shape)\n",
    "print(\"=\"*100)"
   ]
  },
  {
   "cell_type": "markdown",
   "metadata": {
    "colab_type": "text",
    "id": "bGy86kgHb3dX"
   },
   "source": [
    "<h2>1.4 Make Data Model Ready: encoding numerical, categorical features</h2>"
   ]
  },
  {
   "cell_type": "code",
   "execution_count": 9,
   "metadata": {
    "colab": {},
    "colab_type": "code",
    "id": "EfXkofX1b3da"
   },
   "outputs": [
    {
     "name": "stdout",
     "output_type": "stream",
     "text": [
      "(73196, 8) (73196,)\n",
      "(36052, 8) (36052,)\n",
      "After vectorizations\n",
      "(73196, 51) (73196,)\n",
      "(36052, 51) (36052,)\n",
      "['ak', 'al', 'ar', 'az', 'ca', 'co', 'ct', 'dc', 'de', 'fl', 'ga', 'hi', 'ia', 'id', 'il', 'in', 'ks', 'ky', 'la', 'ma', 'md', 'me', 'mi', 'mn', 'mo', 'ms', 'mt', 'nc', 'nd', 'ne', 'nh', 'nj', 'nm', 'nv', 'ny', 'oh', 'ok', 'or', 'pa', 'ri', 'sc', 'sd', 'tn', 'tx', 'ut', 'va', 'vt', 'wa', 'wi', 'wv', 'wy']\n",
      "====================================================================================================\n"
     ]
    }
   ],
   "source": [
    "print(X_train.shape, y_train.shape)\n",
    "print(X_test.shape, y_test.shape)\n",
    "\n",
    "vectorizer2 = CountVectorizer()\n",
    "vectorizer2.fit(X_train['school_state'].values) # fit has to happen only on train data\n",
    "\n",
    "# we use the fitted CountVectorizer to convert the text to vector\n",
    "X_train_state_ohe = vectorizer2.transform(X_train['school_state'].values)\n",
    "X_test_state_ohe = vectorizer2.transform(X_test['school_state'].values)\n",
    "\n",
    "print(\"After vectorizations\")\n",
    "print(X_train_state_ohe.shape, y_train.shape)\n",
    "print(X_test_state_ohe.shape, y_test.shape)\n",
    "print(vectorizer2.get_feature_names())\n",
    "print(\"=\"*100)"
   ]
  },
  {
   "cell_type": "code",
   "execution_count": 10,
   "metadata": {},
   "outputs": [
    {
     "name": "stdout",
     "output_type": "stream",
     "text": [
      "(73196, 8) (73196,)\n",
      "(36052, 8) (36052,)\n",
      "After vectorizations\n",
      "(73196, 5) (73196,)\n",
      "(36052, 5) (36052,)\n",
      "['dr', 'mr', 'mrs', 'ms', 'teacher']\n",
      "====================================================================================================\n"
     ]
    }
   ],
   "source": [
    "print(X_train.shape, y_train.shape)\n",
    "print(X_test.shape, y_test.shape)\n",
    "\n",
    "\n",
    "vectorizer3 = CountVectorizer()\n",
    "vectorizer3.fit(X_train['teacher_prefix'].values) # fit has to happen only on train data\n",
    "\n",
    "# we use the fitted CountVectorizer to convert the text to vector\n",
    "X_train_teacher_ohe = vectorizer3.transform(X_train['teacher_prefix'].values)\n",
    "X_test_teacher_ohe = vectorizer3.transform(X_test['teacher_prefix'].values)\n",
    "\n",
    "print(\"After vectorizations\")\n",
    "print(X_train_teacher_ohe.shape, y_train.shape)\n",
    "print(X_test_teacher_ohe.shape, y_test.shape)\n",
    "print(vectorizer3.get_feature_names())\n",
    "print(\"=\"*100)"
   ]
  },
  {
   "cell_type": "code",
   "execution_count": 11,
   "metadata": {},
   "outputs": [
    {
     "name": "stdout",
     "output_type": "stream",
     "text": [
      "(73196, 8) (73196,)\n",
      "(36052, 8) (36052,)\n",
      "After vectorizations\n",
      "(73196, 4) (73196,)\n",
      "(36052, 4) (36052,)\n",
      "['grades_3_5', 'grades_6_8', 'grades_9_12', 'grades_prek_2']\n",
      "====================================================================================================\n"
     ]
    }
   ],
   "source": [
    "print(X_train.shape, y_train.shape)\n",
    "print(X_test.shape, y_test.shape)\n",
    "\n",
    "\n",
    "vectorizer4 = CountVectorizer()\n",
    "vectorizer4.fit(X_train['project_grade_category'].values) # fit has to happen only on train data\n",
    "\n",
    "# we use the fitted CountVectorizer to convert the text to vector\n",
    "X_train_grade_ohe = vectorizer4.transform(X_train['project_grade_category'].values)\n",
    "X_test_grade_ohe = vectorizer4.transform(X_test['project_grade_category'].values)\n",
    "\n",
    "print(\"After vectorizations\")\n",
    "print(X_train_grade_ohe.shape, y_train.shape)\n",
    "print(X_test_grade_ohe.shape, y_test.shape)\n",
    "print(vectorizer4.get_feature_names())\n",
    "print(\"=\"*100)"
   ]
  },
  {
   "cell_type": "code",
   "execution_count": 12,
   "metadata": {},
   "outputs": [
    {
     "name": "stdout",
     "output_type": "stream",
     "text": [
      "(73196, 8) (73196,)\n",
      "(36052, 8) (36052,)\n",
      "After vectorizations\n",
      "(73196, 9) (73196,)\n",
      "(36052, 9) (36052,)\n",
      "['appliedlearning', 'care_hunger', 'health_sports', 'history_civics', 'literacy_language', 'math_science', 'music_arts', 'specialneeds', 'warmth']\n",
      "====================================================================================================\n"
     ]
    }
   ],
   "source": [
    "print(X_train.shape, y_train.shape)\n",
    "print(X_test.shape, y_test.shape)\n",
    "\n",
    "\n",
    "vectorizer5 = CountVectorizer()\n",
    "vectorizer5.fit(X_train['clean_categories'].values) # fit has to happen only on train data\n",
    "\n",
    "# we use the fitted CountVectorizer to convert the text to vector\n",
    "X_train_cleancategories_ohe = vectorizer5.transform(X_train['clean_categories'].values)\n",
    "X_test_cleancategories_ohe = vectorizer5.transform(X_test['clean_categories'].values)\n",
    "\n",
    "print(\"After vectorizations\")\n",
    "print(X_train_cleancategories_ohe.shape, y_train.shape)\n",
    "print(X_test_cleancategories_ohe.shape, y_test.shape)\n",
    "print(vectorizer5.get_feature_names())\n",
    "print(\"=\"*100)"
   ]
  },
  {
   "cell_type": "code",
   "execution_count": 13,
   "metadata": {},
   "outputs": [
    {
     "name": "stdout",
     "output_type": "stream",
     "text": [
      "(73196, 8) (73196,)\n",
      "(36052, 8) (36052,)\n",
      "After vectorizations\n",
      "(73196, 30) (73196,)\n",
      "(36052, 30) (36052,)\n",
      "['appliedsciences', 'care_hunger', 'charactereducation', 'civics_government', 'college_careerprep', 'communityservice', 'earlydevelopment', 'economics', 'environmentalscience', 'esl', 'extracurricular', 'financialliteracy', 'foreignlanguages', 'gym_fitness', 'health_lifescience', 'health_wellness', 'history_geography', 'literacy', 'literature_writing', 'mathematics', 'music', 'nutritioneducation', 'other', 'parentinvolvement', 'performingarts', 'socialsciences', 'specialneeds', 'teamsports', 'visualarts', 'warmth']\n",
      "====================================================================================================\n"
     ]
    }
   ],
   "source": [
    "print(X_train.shape, y_train.shape)\n",
    "print(X_test.shape, y_test.shape)\n",
    "\n",
    "\n",
    "vectorizer6 = CountVectorizer()\n",
    "vectorizer6.fit(X_train['clean_subcategories'].values) # fit has to happen only on train data\n",
    "\n",
    "# we use the fitted CountVectorizer to convert the text to vector\n",
    "X_train_cleansubcategories_ohe = vectorizer6.transform(X_train['clean_subcategories'].values)\n",
    "X_test_cleansubcategories_ohe = vectorizer6.transform(X_test['clean_subcategories'].values)\n",
    "\n",
    "print(\"After vectorizations\")\n",
    "print(X_train_cleansubcategories_ohe.shape, y_train.shape)\n",
    "print(X_test_cleansubcategories_ohe.shape, y_test.shape)\n",
    "print(vectorizer6.get_feature_names())\n",
    "print(\"=\"*100)"
   ]
  },
  {
   "cell_type": "code",
   "execution_count": 14,
   "metadata": {},
   "outputs": [
    {
     "name": "stdout",
     "output_type": "stream",
     "text": [
      "After vectorizations\n",
      "(73196, 1) (73196,)\n",
      "(36052, 1) (36052,)\n",
      "====================================================================================================\n"
     ]
    }
   ],
   "source": [
    "from sklearn.preprocessing import Normalizer\n",
    "normalizer = Normalizer()\n",
    "# normalizer.fit(X_train['price'].values)\n",
    "# this will rise an error Expected 2D array, got 1D array instead: \n",
    "# array=[105.22 215.96  96.01 ... 368.98  80.53 709.67].\n",
    "# Reshape your data either using \n",
    "# array.reshape(-1, 1) if your data has a single feature \n",
    "# array.reshape(1, -1)  if it contains a single sample.\n",
    "normalizer.fit(X_train['price'].values.reshape(-1,1))\n",
    "\n",
    "X_train_price_norm = normalizer.transform(X_train['price'].values.reshape(-1,1))\n",
    "X_test_price_norm = normalizer.transform(X_test['price'].values.reshape(-1,1))\n",
    "\n",
    "\n",
    "\n",
    "print(\"After vectorizations\")\n",
    "print(X_train_price_norm.shape, y_train.shape)\n",
    "print(X_test_price_norm.shape, y_test.shape)\n",
    "print(\"=\"*100)"
   ]
  },
  {
   "cell_type": "code",
   "execution_count": 15,
   "metadata": {},
   "outputs": [
    {
     "name": "stdout",
     "output_type": "stream",
     "text": [
      "After vectorizations\n",
      "(73196, 1) (73196,)\n",
      "(36052, 1) (36052,)\n",
      "====================================================================================================\n"
     ]
    }
   ],
   "source": [
    "from sklearn.preprocessing import Normalizer\n",
    "normalizer = Normalizer()\n",
    "#normalizer.fit(X_train['price'].values)\n",
    "# this will rise an error Expected 2D array, got 1D array instead: \n",
    "# array=[105.22 215.96  96.01 ... 368.98  80.53 709.67].\n",
    "# Reshape your data either using \n",
    "# array.reshape(-1, 1) if your data has a single feature \n",
    "# array.reshape(1, -1)  if it contains a single sample.\n",
    "normalizer.fit(X_train['teacher_number_of_previously_posted_projects'].values.reshape(-1,1))\n",
    "\n",
    "X_train_previously_posted_projects_norm = normalizer.transform(X_train['teacher_number_of_previously_posted_projects'].values.reshape(-1,1))\n",
    "X_test_previously_posted_projects_norm = normalizer.transform(X_test['teacher_number_of_previously_posted_projects'].values.reshape(-1,1))\n",
    "\n",
    "\n",
    "print(\"After vectorizations\")\n",
    "print(X_train_previously_posted_projects_norm.shape, y_train.shape)\n",
    "print(X_test_previously_posted_projects_norm.shape, y_test.shape)\n",
    "print(\"=\"*100)"
   ]
  },
  {
   "cell_type": "code",
   "execution_count": 16,
   "metadata": {},
   "outputs": [
    {
     "name": "stdout",
     "output_type": "stream",
     "text": [
      "Final Data matrix\n",
      "(73196, 5101) (73196,)\n",
      "(36052, 5101) (36052,)\n",
      "====================================================================================================\n"
     ]
    }
   ],
   "source": [
    "# merge two sparse matrices: https://stackoverflow.com/a/19710648/4084039\n",
    "from scipy.sparse import hstack\n",
    "X_tr = hstack((X_train_essay_bow, X_train_state_ohe, X_train_teacher_ohe, X_train_grade_ohe, X_train_cleancategories_ohe, X_train_cleansubcategories_ohe, X_train_price_norm, X_train_previously_posted_projects_norm)).tocsr()\n",
    "X_te = hstack((X_test_essay_bow, X_test_state_ohe, X_test_teacher_ohe, X_test_grade_ohe, X_test_cleancategories_ohe, X_test_cleansubcategories_ohe, X_test_price_norm, X_test_previously_posted_projects_norm)).tocsr()\n",
    "\n",
    "print(\"Final Data matrix\")\n",
    "print(X_tr.shape, y_train.shape)\n",
    "print(X_te.shape, y_test.shape)\n",
    "print(\"=\"*100)"
   ]
  },
  {
   "cell_type": "markdown",
   "metadata": {},
   "source": [
    "<h2>1.5 write a function which is doing batch wise prediction to get auc score</h2>"
   ]
  },
  {
   "cell_type": "code",
   "execution_count": 17,
   "metadata": {},
   "outputs": [],
   "source": [
    "def batch_predict(clf, data):\n",
    "    # roc_auc_score(y_true, y_score) the 2nd parameter should be probability estimates of the positive class\n",
    "    # not the predicted outputs\n",
    "\n",
    "    y_data_pred = []\n",
    "    tr_loop = data.shape[0] - data.shape[0]%1000\n",
    "    # consider you X_tr shape is 49041, then your tr_loop will be 49041 - 49041%1000 = 49000\n",
    "    # in this for loop we will iterate unti the last 1000 multiplier\n",
    "    for i in range(0, tr_loop, 1000):\n",
    "        y_data_pred.extend(clf.predict_proba(data[i:i+1000])[:,1])\n",
    "    # we will be predicting for the last data points\n",
    "    if data.shape[0]%1000 !=0:\n",
    "        y_data_pred.extend(clf.predict_proba(data[tr_loop:])[:,1])\n",
    "    \n",
    "    return y_data_pred"
   ]
  },
  {
   "cell_type": "markdown",
   "metadata": {},
   "source": [
    "<h2>1.5 Building a Model</h2>"
   ]
  },
  {
   "cell_type": "code",
   "execution_count": 18,
   "metadata": {},
   "outputs": [
    {
     "data": {
      "image/png": "[encoded data removed]",
      "text/plain": [
       "<Figure size 432x288 with 1 Axes>"
      ]
     },
     "metadata": {
      "needs_background": "light"
     },
     "output_type": "display_data"
    },
    {
     "data": {
      "text/html": [
       "<div>\n",
       "<style scoped>\n",
       "    .dataframe tbody tr th:only-of-type {\n",
       "        vertical-align: middle;\n",
       "    }\n",
       "\n",
       "    .dataframe tbody tr th {\n",
       "        vertical-align: top;\n",
       "    }\n",
       "\n",
       "    .dataframe thead th {\n",
       "        text-align: right;\n",
       "    }\n",
       "</style>\n",
       "<table border=\"1\" class=\"dataframe\">\n",
       "  <thead>\n",
       "    <tr style=\"text-align: right;\">\n",
       "      <th></th>\n",
       "      <th>mean_fit_time</th>\n",
       "      <th>std_fit_time</th>\n",
       "      <th>mean_score_time</th>\n",
       "      <th>std_score_time</th>\n",
       "      <th>param_alpha</th>\n",
       "      <th>params</th>\n",
       "      <th>split0_test_score</th>\n",
       "      <th>split1_test_score</th>\n",
       "      <th>split2_test_score</th>\n",
       "      <th>mean_test_score</th>\n",
       "      <th>std_test_score</th>\n",
       "      <th>rank_test_score</th>\n",
       "      <th>split0_train_score</th>\n",
       "      <th>split1_train_score</th>\n",
       "      <th>split2_train_score</th>\n",
       "      <th>mean_train_score</th>\n",
       "      <th>std_train_score</th>\n",
       "    </tr>\n",
       "  </thead>\n",
       "  <tbody>\n",
       "    <tr>\n",
       "      <th>0</th>\n",
       "      <td>0.164352</td>\n",
       "      <td>0.025081</td>\n",
       "      <td>0.040466</td>\n",
       "      <td>0.017756</td>\n",
       "      <td>1e-05</td>\n",
       "      <td>{'alpha': 1e-05}</td>\n",
       "      <td>0.682586</td>\n",
       "      <td>0.687952</td>\n",
       "      <td>0.695913</td>\n",
       "      <td>0.688817</td>\n",
       "      <td>0.005475</td>\n",
       "      <td>1</td>\n",
       "      <td>0.720508</td>\n",
       "      <td>0.721191</td>\n",
       "      <td>0.719232</td>\n",
       "      <td>0.720310</td>\n",
       "      <td>0.000812</td>\n",
       "    </tr>\n",
       "    <tr>\n",
       "      <th>2</th>\n",
       "      <td>0.139608</td>\n",
       "      <td>0.005778</td>\n",
       "      <td>0.025096</td>\n",
       "      <td>0.003238</td>\n",
       "      <td>0.0001</td>\n",
       "      <td>{'alpha': 0.0001}</td>\n",
       "      <td>0.682585</td>\n",
       "      <td>0.687951</td>\n",
       "      <td>0.695913</td>\n",
       "      <td>0.688817</td>\n",
       "      <td>0.005475</td>\n",
       "      <td>2</td>\n",
       "      <td>0.720508</td>\n",
       "      <td>0.721191</td>\n",
       "      <td>0.719232</td>\n",
       "      <td>0.720310</td>\n",
       "      <td>0.000812</td>\n",
       "    </tr>\n",
       "    <tr>\n",
       "      <th>1</th>\n",
       "      <td>0.139640</td>\n",
       "      <td>0.001419</td>\n",
       "      <td>0.027260</td>\n",
       "      <td>0.000471</td>\n",
       "      <td>0.0005</td>\n",
       "      <td>{'alpha': 0.0005}</td>\n",
       "      <td>0.682585</td>\n",
       "      <td>0.687951</td>\n",
       "      <td>0.695913</td>\n",
       "      <td>0.688816</td>\n",
       "      <td>0.005475</td>\n",
       "      <td>3</td>\n",
       "      <td>0.720508</td>\n",
       "      <td>0.721191</td>\n",
       "      <td>0.719232</td>\n",
       "      <td>0.720310</td>\n",
       "      <td>0.000812</td>\n",
       "    </tr>\n",
       "    <tr>\n",
       "      <th>4</th>\n",
       "      <td>0.139970</td>\n",
       "      <td>0.002633</td>\n",
       "      <td>0.027263</td>\n",
       "      <td>0.000473</td>\n",
       "      <td>0.001</td>\n",
       "      <td>{'alpha': 0.001}</td>\n",
       "      <td>0.682585</td>\n",
       "      <td>0.687951</td>\n",
       "      <td>0.695912</td>\n",
       "      <td>0.688816</td>\n",
       "      <td>0.005475</td>\n",
       "      <td>4</td>\n",
       "      <td>0.720508</td>\n",
       "      <td>0.721190</td>\n",
       "      <td>0.719232</td>\n",
       "      <td>0.720310</td>\n",
       "      <td>0.000812</td>\n",
       "    </tr>\n",
       "    <tr>\n",
       "      <th>3</th>\n",
       "      <td>0.144139</td>\n",
       "      <td>0.002249</td>\n",
       "      <td>0.028247</td>\n",
       "      <td>0.001229</td>\n",
       "      <td>0.005</td>\n",
       "      <td>{'alpha': 0.005}</td>\n",
       "      <td>0.682584</td>\n",
       "      <td>0.687950</td>\n",
       "      <td>0.695911</td>\n",
       "      <td>0.688815</td>\n",
       "      <td>0.005475</td>\n",
       "      <td>5</td>\n",
       "      <td>0.720505</td>\n",
       "      <td>0.721188</td>\n",
       "      <td>0.719230</td>\n",
       "      <td>0.720308</td>\n",
       "      <td>0.000812</td>\n",
       "    </tr>\n",
       "    <tr>\n",
       "      <th>6</th>\n",
       "      <td>0.140957</td>\n",
       "      <td>0.001695</td>\n",
       "      <td>0.028603</td>\n",
       "      <td>0.000932</td>\n",
       "      <td>0.01</td>\n",
       "      <td>{'alpha': 0.01}</td>\n",
       "      <td>0.682582</td>\n",
       "      <td>0.687948</td>\n",
       "      <td>0.695909</td>\n",
       "      <td>0.688813</td>\n",
       "      <td>0.005475</td>\n",
       "      <td>6</td>\n",
       "      <td>0.720503</td>\n",
       "      <td>0.721186</td>\n",
       "      <td>0.719227</td>\n",
       "      <td>0.720305</td>\n",
       "      <td>0.000812</td>\n",
       "    </tr>\n",
       "    <tr>\n",
       "      <th>5</th>\n",
       "      <td>0.144628</td>\n",
       "      <td>0.005633</td>\n",
       "      <td>0.027604</td>\n",
       "      <td>0.000477</td>\n",
       "      <td>0.05</td>\n",
       "      <td>{'alpha': 0.05}</td>\n",
       "      <td>0.682572</td>\n",
       "      <td>0.687931</td>\n",
       "      <td>0.695891</td>\n",
       "      <td>0.688798</td>\n",
       "      <td>0.005472</td>\n",
       "      <td>7</td>\n",
       "      <td>0.720481</td>\n",
       "      <td>0.721162</td>\n",
       "      <td>0.719203</td>\n",
       "      <td>0.720282</td>\n",
       "      <td>0.000812</td>\n",
       "    </tr>\n",
       "    <tr>\n",
       "      <th>7</th>\n",
       "      <td>0.152067</td>\n",
       "      <td>0.013539</td>\n",
       "      <td>0.031212</td>\n",
       "      <td>0.001402</td>\n",
       "      <td>0.1</td>\n",
       "      <td>{'alpha': 0.1}</td>\n",
       "      <td>0.682557</td>\n",
       "      <td>0.687913</td>\n",
       "      <td>0.695866</td>\n",
       "      <td>0.688779</td>\n",
       "      <td>0.005468</td>\n",
       "      <td>8</td>\n",
       "      <td>0.720452</td>\n",
       "      <td>0.721133</td>\n",
       "      <td>0.719173</td>\n",
       "      <td>0.720253</td>\n",
       "      <td>0.000812</td>\n",
       "    </tr>\n",
       "    <tr>\n",
       "      <th>8</th>\n",
       "      <td>0.146894</td>\n",
       "      <td>0.010378</td>\n",
       "      <td>0.027152</td>\n",
       "      <td>0.006895</td>\n",
       "      <td>0.5</td>\n",
       "      <td>{'alpha': 0.5}</td>\n",
       "      <td>0.682410</td>\n",
       "      <td>0.687762</td>\n",
       "      <td>0.695695</td>\n",
       "      <td>0.688622</td>\n",
       "      <td>0.005457</td>\n",
       "      <td>9</td>\n",
       "      <td>0.720231</td>\n",
       "      <td>0.720906</td>\n",
       "      <td>0.718938</td>\n",
       "      <td>0.720025</td>\n",
       "      <td>0.000816</td>\n",
       "    </tr>\n",
       "    <tr>\n",
       "      <th>9</th>\n",
       "      <td>0.157911</td>\n",
       "      <td>0.008031</td>\n",
       "      <td>0.039894</td>\n",
       "      <td>0.010204</td>\n",
       "      <td>1</td>\n",
       "      <td>{'alpha': 1}</td>\n",
       "      <td>0.682235</td>\n",
       "      <td>0.687566</td>\n",
       "      <td>0.695475</td>\n",
       "      <td>0.688426</td>\n",
       "      <td>0.005439</td>\n",
       "      <td>10</td>\n",
       "      <td>0.719956</td>\n",
       "      <td>0.720624</td>\n",
       "      <td>0.718642</td>\n",
       "      <td>0.719740</td>\n",
       "      <td>0.000823</td>\n",
       "    </tr>\n",
       "    <tr>\n",
       "      <th>10</th>\n",
       "      <td>0.149933</td>\n",
       "      <td>0.004908</td>\n",
       "      <td>0.027593</td>\n",
       "      <td>0.000940</td>\n",
       "      <td>5</td>\n",
       "      <td>{'alpha': 5}</td>\n",
       "      <td>0.680775</td>\n",
       "      <td>0.685943</td>\n",
       "      <td>0.693701</td>\n",
       "      <td>0.686806</td>\n",
       "      <td>0.005312</td>\n",
       "      <td>11</td>\n",
       "      <td>0.717724</td>\n",
       "      <td>0.718324</td>\n",
       "      <td>0.716276</td>\n",
       "      <td>0.717442</td>\n",
       "      <td>0.000860</td>\n",
       "    </tr>\n",
       "    <tr>\n",
       "      <th>11</th>\n",
       "      <td>0.142633</td>\n",
       "      <td>0.002146</td>\n",
       "      <td>0.028256</td>\n",
       "      <td>0.000447</td>\n",
       "      <td>10</td>\n",
       "      <td>{'alpha': 10}</td>\n",
       "      <td>0.678862</td>\n",
       "      <td>0.683845</td>\n",
       "      <td>0.691372</td>\n",
       "      <td>0.684693</td>\n",
       "      <td>0.005143</td>\n",
       "      <td>12</td>\n",
       "      <td>0.714904</td>\n",
       "      <td>0.715443</td>\n",
       "      <td>0.713292</td>\n",
       "      <td>0.714546</td>\n",
       "      <td>0.000914</td>\n",
       "    </tr>\n",
       "    <tr>\n",
       "      <th>12</th>\n",
       "      <td>0.145032</td>\n",
       "      <td>0.008417</td>\n",
       "      <td>0.027263</td>\n",
       "      <td>0.000470</td>\n",
       "      <td>50</td>\n",
       "      <td>{'alpha': 50}</td>\n",
       "      <td>0.663316</td>\n",
       "      <td>0.666711</td>\n",
       "      <td>0.672589</td>\n",
       "      <td>0.667539</td>\n",
       "      <td>0.003831</td>\n",
       "      <td>13</td>\n",
       "      <td>0.692869</td>\n",
       "      <td>0.693273</td>\n",
       "      <td>0.690390</td>\n",
       "      <td>0.692177</td>\n",
       "      <td>0.001274</td>\n",
       "    </tr>\n",
       "    <tr>\n",
       "      <th>13</th>\n",
       "      <td>0.143294</td>\n",
       "      <td>0.002484</td>\n",
       "      <td>0.027251</td>\n",
       "      <td>0.000456</td>\n",
       "      <td>100</td>\n",
       "      <td>{'alpha': 100}</td>\n",
       "      <td>0.645762</td>\n",
       "      <td>0.647943</td>\n",
       "      <td>0.651364</td>\n",
       "      <td>0.648356</td>\n",
       "      <td>0.002305</td>\n",
       "      <td>14</td>\n",
       "      <td>0.668894</td>\n",
       "      <td>0.669029</td>\n",
       "      <td>0.665885</td>\n",
       "      <td>0.667936</td>\n",
       "      <td>0.001451</td>\n",
       "    </tr>\n",
       "  </tbody>\n",
       "</table>\n",
       "</div>"
      ],
      "text/plain": [
       "    mean_fit_time  std_fit_time  mean_score_time  std_score_time param_alpha  \\\n",
       "0        0.164352      0.025081         0.040466        0.017756       1e-05   \n",
       "2        0.139608      0.005778         0.025096        0.003238      0.0001   \n",
       "1        0.139640      0.001419         0.027260        0.000471      0.0005   \n",
       "4        0.139970      0.002633         0.027263        0.000473       0.001   \n",
       "3        0.144139      0.002249         0.028247        0.001229       0.005   \n",
       "6        0.140957      0.001695         0.028603        0.000932        0.01   \n",
       "5        0.144628      0.005633         0.027604        0.000477        0.05   \n",
       "7        0.152067      0.013539         0.031212        0.001402         0.1   \n",
       "8        0.146894      0.010378         0.027152        0.006895         0.5   \n",
       "9        0.157911      0.008031         0.039894        0.010204           1   \n",
       "10       0.149933      0.004908         0.027593        0.000940           5   \n",
       "11       0.142633      0.002146         0.028256        0.000447          10   \n",
       "12       0.145032      0.008417         0.027263        0.000470          50   \n",
       "13       0.143294      0.002484         0.027251        0.000456         100   \n",
       "\n",
       "               params  split0_test_score  split1_test_score  \\\n",
       "0    {'alpha': 1e-05}           0.682586           0.687952   \n",
       "2   {'alpha': 0.0001}           0.682585           0.687951   \n",
       "1   {'alpha': 0.0005}           0.682585           0.687951   \n",
       "4    {'alpha': 0.001}           0.682585           0.687951   \n",
       "3    {'alpha': 0.005}           0.682584           0.687950   \n",
       "6     {'alpha': 0.01}           0.682582           0.687948   \n",
       "5     {'alpha': 0.05}           0.682572           0.687931   \n",
       "7      {'alpha': 0.1}           0.682557           0.687913   \n",
       "8      {'alpha': 0.5}           0.682410           0.687762   \n",
       "9        {'alpha': 1}           0.682235           0.687566   \n",
       "10       {'alpha': 5}           0.680775           0.685943   \n",
       "11      {'alpha': 10}           0.678862           0.683845   \n",
       "12      {'alpha': 50}           0.663316           0.666711   \n",
       "13     {'alpha': 100}           0.645762           0.647943   \n",
       "\n",
       "    split2_test_score  mean_test_score  std_test_score  rank_test_score  \\\n",
       "0            0.695913         0.688817        0.005475                1   \n",
       "2            0.695913         0.688817        0.005475                2   \n",
       "1            0.695913         0.688816        0.005475                3   \n",
       "4            0.695912         0.688816        0.005475                4   \n",
       "3            0.695911         0.688815        0.005475                5   \n",
       "6            0.695909         0.688813        0.005475                6   \n",
       "5            0.695891         0.688798        0.005472                7   \n",
       "7            0.695866         0.688779        0.005468                8   \n",
       "8            0.695695         0.688622        0.005457                9   \n",
       "9            0.695475         0.688426        0.005439               10   \n",
       "10           0.693701         0.686806        0.005312               11   \n",
       "11           0.691372         0.684693        0.005143               12   \n",
       "12           0.672589         0.667539        0.003831               13   \n",
       "13           0.651364         0.648356        0.002305               14   \n",
       "\n",
       "    split0_train_score  split1_train_score  split2_train_score  \\\n",
       "0             0.720508            0.721191            0.719232   \n",
       "2             0.720508            0.721191            0.719232   \n",
       "1             0.720508            0.721191            0.719232   \n",
       "4             0.720508            0.721190            0.719232   \n",
       "3             0.720505            0.721188            0.719230   \n",
       "6             0.720503            0.721186            0.719227   \n",
       "5             0.720481            0.721162            0.719203   \n",
       "7             0.720452            0.721133            0.719173   \n",
       "8             0.720231            0.720906            0.718938   \n",
       "9             0.719956            0.720624            0.718642   \n",
       "10            0.717724            0.718324            0.716276   \n",
       "11            0.714904            0.715443            0.713292   \n",
       "12            0.692869            0.693273            0.690390   \n",
       "13            0.668894            0.669029            0.665885   \n",
       "\n",
       "    mean_train_score  std_train_score  \n",
       "0           0.720310         0.000812  \n",
       "2           0.720310         0.000812  \n",
       "1           0.720310         0.000812  \n",
       "4           0.720310         0.000812  \n",
       "3           0.720308         0.000812  \n",
       "6           0.720305         0.000812  \n",
       "5           0.720282         0.000812  \n",
       "7           0.720253         0.000812  \n",
       "8           0.720025         0.000816  \n",
       "9           0.719740         0.000823  \n",
       "10          0.717442         0.000860  \n",
       "11          0.714546         0.000914  \n",
       "12          0.692177         0.001274  \n",
       "13          0.667936         0.001451  "
      ]
     },
     "execution_count": 18,
     "metadata": {},
     "output_type": "execute_result"
    }
   ],
   "source": [
    "# https://scikit-learn.org/stable/modules/generated/sklearn.model_selection.GridSearchCV.html\n",
    "from sklearn.naive_bayes import MultinomialNB\n",
    "from sklearn.model_selection import GridSearchCV\n",
    "from scipy.stats import randint as sp_randint\n",
    "from sklearn.model_selection import RandomizedSearchCV\n",
    "\n",
    "MNB_bow = MultinomialNB(class_prior=[0.5,0.5], fit_prior = True)\n",
    "parameters = {'alpha':[0.00001,0.0005, 0.0001,0.005,0.001,0.05,0.01,0.1,0.5,1,5,10,50,100]}\n",
    "clf = GridSearchCV(MNB_bow, parameters, cv=3, scoring='roc_auc', return_train_score=True)\n",
    "clf.fit(X_tr, y_train)\n",
    "\n",
    "results = pd.DataFrame.from_dict(clf.cv_results_)\n",
    "results = results.sort_values(['param_alpha'])\n",
    "\n",
    "train_auc= results['mean_train_score']\n",
    "train_auc_std= results['std_train_score']\n",
    "cv_auc = results['mean_test_score'] \n",
    "cv_auc_std= results['std_test_score']\n",
    "K =  results['param_alpha']\n",
    "\n",
    "plt.semilogx(K, train_auc, label='Train AUC')\n",
    "# this code is copied from here: https://stackoverflow.com/a/48803361/4084039\n",
    "# plt.gca().fill_between(K, train_auc - train_auc_std,train_auc + train_auc_std,alpha=0.2,color='darkblue')\n",
    "\n",
    "plt.semilogx(K, cv_auc, label='CV AUC')\n",
    "# this code is copied from here: https://stackoverflow.com/a/48803361/4084039\n",
    "# plt.gca().fill_between(K, cv_auc - cv_auc_std,cv_auc + cv_auc_std,alpha=0.2,color='darkorange')\n",
    "\n",
    "plt.scatter(K, train_auc, label='Train AUC points')\n",
    "plt.scatter(K, cv_auc, label='CV AUC points')\n",
    "\n",
    "\n",
    "plt.legend()\n",
    "plt.xlabel(\"Alpha: hyperparameter\")\n",
    "plt.ylabel(\"AUC\")\n",
    "plt.title(\"Hyper parameter Vs AUC plot\")\n",
    "plt.grid()\n",
    "plt.show()\n",
    "\n",
    "results"
   ]
  },
  {
   "cell_type": "code",
   "execution_count": 19,
   "metadata": {},
   "outputs": [],
   "source": [
    "best_alpha_bow = 1"
   ]
  },
  {
   "cell_type": "code",
   "execution_count": 20,
   "metadata": {},
   "outputs": [
    {
     "data": {
      "image/png": "[encoded data removed]",
      "text/plain": [
       "<Figure size 432x288 with 1 Axes>"
      ]
     },
     "metadata": {
      "needs_background": "light"
     },
     "output_type": "display_data"
    }
   ],
   "source": [
    "from sklearn.metrics import roc_curve, auc\n",
    "\n",
    "MNB_bow = MultinomialNB(alpha=best_alpha_bow)\n",
    "MNB_bow.fit(X_tr, y_train)\n",
    "# roc_auc_score(y_true, y_score) the 2nd parameter should be probability estimates of the positive class\n",
    "# not the predicted outputs\n",
    "\n",
    "y_train_pred = batch_predict(MNB_bow, X_tr)    \n",
    "y_test_pred = batch_predict(MNB_bow, X_te)\n",
    "\n",
    "train_fpr, train_tpr, tr_thresholds = roc_curve(y_train, y_train_pred)\n",
    "test_fpr, test_tpr, te_thresholds = roc_curve(y_test, y_test_pred)\n",
    "\n",
    "plt.plot(train_fpr, train_tpr, label=\"train AUC =\"+str(auc(train_fpr, train_tpr)))\n",
    "plt.plot(test_fpr, test_tpr, label=\"test AUC =\"+str(auc(test_fpr, test_tpr)))\n",
    "plt.legend()\n",
    "plt.xlabel(\"apha: hyperparameter\")\n",
    "plt.ylabel(\"AUC\")\n",
    "plt.title(\"ERROR PLOTS\")\n",
    "plt.grid()\n",
    "plt.show()"
   ]
  },
  {
   "cell_type": "code",
   "execution_count": 21,
   "metadata": {},
   "outputs": [],
   "source": [
    "def find_best_threshold(threshould, fpr, tpr):\n",
    "    t = threshould[np.argmax(tpr*(1-fpr))]\n",
    "    # (tpr*(1-fpr)) will be maximum if your fpr is very low and tpr is very high\n",
    "    print(\"the maximum value of tpr*(1-fpr)\", max(tpr*(1-fpr)), \"for threshold\", np.round(t,3))\n",
    "    return t\n",
    "\n",
    "def predict_with_best_t(proba, threshould):\n",
    "    predictions = []\n",
    "    for i in proba:\n",
    "        if i>=threshould:\n",
    "            predictions.append(1)\n",
    "        else:\n",
    "            predictions.append(0)\n",
    "    return predictions"
   ]
  },
  {
   "cell_type": "code",
   "execution_count": 22,
   "metadata": {},
   "outputs": [
    {
     "name": "stdout",
     "output_type": "stream",
     "text": [
      "====================================================================================================\n",
      "the maximum value of tpr*(1-fpr) 0.43665285272265286 for threshold 0.832\n",
      "Train confusion matrix\n",
      "[[ 7364  3719]\n",
      " [21294 40819]]\n",
      "Test confusion matrix\n",
      "[[ 3457  2002]\n",
      " [10532 20061]]\n"
     ]
    }
   ],
   "source": [
    "print(\"=\"*100)\n",
    "from sklearn.metrics import confusion_matrix\n",
    "best_t = find_best_threshold(tr_thresholds, train_fpr, train_tpr)\n",
    "cm_train = confusion_matrix(y_train, predict_with_best_t(y_train_pred, best_t))\n",
    "cm_test = confusion_matrix(y_test, predict_with_best_t(y_test_pred, best_t))\n",
    "print(\"Train confusion matrix\")\n",
    "print(cm_train)\n",
    "print(\"Test confusion matrix\")\n",
    "print(cm_test)"
   ]
  },
  {
   "cell_type": "code",
   "execution_count": 23,
   "metadata": {},
   "outputs": [
    {
     "data": {
      "text/plain": [
       "<AxesSubplot:>"
      ]
     },
     "execution_count": 23,
     "metadata": {},
     "output_type": "execute_result"
    },
    {
     "data": {
      "image/png": "[encoded data removed]",
      "text/plain": [
       "<Figure size 432x288 with 2 Axes>"
      ]
     },
     "metadata": {
      "needs_background": "light"
     },
     "output_type": "display_data"
    }
   ],
   "source": [
    "import seaborn as sns\n",
    "import matplotlib.pyplot as plt \n",
    "\n",
    "sns.heatmap(cm_train, annot=True,fmt=\"d\",cmap='Blues')"
   ]
  },
  {
   "cell_type": "code",
   "execution_count": 24,
   "metadata": {},
   "outputs": [
    {
     "data": {
      "text/plain": [
       "<AxesSubplot:>"
      ]
     },
     "execution_count": 24,
     "metadata": {},
     "output_type": "execute_result"
    },
    {
     "data": {
      "image/png": "[encoded data removed]",
      "text/plain": [
       "<Figure size 432x288 with 2 Axes>"
      ]
     },
     "metadata": {
      "needs_background": "light"
     },
     "output_type": "display_data"
    }
   ],
   "source": [
    "sns.heatmap(cm_test, annot=True,fmt=\"d\",cmap='Blues')"
   ]
  },
  {
   "cell_type": "markdown",
   "metadata": {},
   "source": [
    "<h2>1.4 top 25 features from feature Set 1 using values of `feature_log_prob_ ` parameter of `MultinomialNB`  and print both positive as well as negative corresponding feature names.</h2>\n",
    "\n",
    "### (https://scikit-learn.org/stable/modules/generated/sklearn.naive_bayes.MultinomialNB.html)"
   ]
  },
  {
   "cell_type": "code",
   "execution_count": 26,
   "metadata": {},
   "outputs": [],
   "source": [
    "neg_class_prob_sorted_set1 = MNB_bow.feature_log_prob_[0, :].argsort()\n",
    "pos_class_prob_sorted_set1 = MNB_bow.feature_log_prob_[1, :].argsort()"
   ]
  },
  {
   "cell_type": "code",
   "execution_count": 27,
   "metadata": {},
   "outputs": [],
   "source": [
    "from itertools import chain\n",
    "Stacked_Feature_list = list(chain(vectorizer1.get_feature_names(),vectorizer2.get_feature_names(),vectorizer3.get_feature_names(), vectorizer4.get_feature_names(),vectorizer5.get_feature_names(),vectorizer6.get_feature_names(), X_train_price_norm, X_train_previously_posted_projects_norm ))"
   ]
  },
  {
   "cell_type": "code",
   "execution_count": 56,
   "metadata": {},
   "outputs": [
    {
     "name": "stdout",
     "output_type": "stream",
     "text": [
      "The words with higest importance in Negative class is\n",
      "['use' 'day' 'skills' 'reading' 'able' 'materials' 'love' array([1.])\n",
      " 'come' 'work' 'need' 'we' 'many' 'nannan' array([1.]) 'my students' 'the'\n",
      " 'help' 'they' 'learn' 'not' 'classroom' 'my' 'learning' 'school']\n",
      "********************\n",
      "The words with higest importance in Positive class is\n",
      "['would' 'class' 'come' 'able' 'day' 'love' array([1.]) 'use' 'reading'\n",
      " 'work' 'need' 'we' 'nannan' 'many' array([1.]) 'help' 'learn'\n",
      " 'my students' 'not' 'they' 'the' 'classroom' 'learning' 'my' 'school']\n"
     ]
    }
   ],
   "source": [
    "print(\"The words with higest importance in Negative class is\")\n",
    "print(np.take(Stacked_Feature_list, neg_class_prob_sorted_set1[-26:-1]))\n",
    "print(\"*\"*20)\n",
    "print(\"The words with higest importance in Positive class is\")\n",
    "print(np.take(Stacked_Feature_list, pos_class_prob_sorted_set1[-26:-1]))"
   ]
  },
  {
   "cell_type": "markdown",
   "metadata": {
    "colab_type": "text",
    "id": "lS9hIHdib3dp"
   },
   "source": [
    "<h1>2.1 Naive Bayes with TFIDF </h1>"
   ]
  },
  {
   "cell_type": "markdown",
   "metadata": {},
   "source": [
    "<h2>2.2 Make Data Model Ready: encoding eassay</h2>"
   ]
  },
  {
   "cell_type": "code",
   "execution_count": 30,
   "metadata": {},
   "outputs": [
    {
     "name": "stdout",
     "output_type": "stream",
     "text": [
      "(73196, 8) (73196,)\n",
      "(36052, 8) (36052,)\n",
      "====================================================================================================\n",
      "After vectorizations\n",
      "(73196, 5000) (73196,)\n",
      "(36052, 5000) (36052,)\n",
      "====================================================================================================\n"
     ]
    }
   ],
   "source": [
    "print(X_train.shape, y_train.shape)\n",
    "print(X_test.shape, y_test.shape)\n",
    "print(\"=\"*100)\n",
    "\n",
    "\n",
    "vectorizer21 = TfidfVectorizer(min_df=10,ngram_range=(1,4), max_features=5000)\n",
    "vectorizer21.fit(X_train['essay'].values) # fit has to happen only on train data\n",
    "\n",
    "# we use the fitted CountVectorizer to convert the text to vector\n",
    "X_train_essay_tfidf = vectorizer21.transform(X_train['essay'].values)\n",
    "X_test_essay_tfidf = vectorizer21.transform(X_test['essay'].values)\n",
    "\n",
    "print(\"After vectorizations\")\n",
    "print(X_train_essay_tfidf.shape, y_train.shape)\n",
    "print(X_test_essay_tfidf.shape, y_test.shape)\n",
    "print(\"=\"*100)"
   ]
  },
  {
   "cell_type": "markdown",
   "metadata": {},
   "source": [
    "<h2>2.3 Make Data Model Ready: encoding numerical, categorical features</h2>"
   ]
  },
  {
   "cell_type": "code",
   "execution_count": 31,
   "metadata": {},
   "outputs": [
    {
     "name": "stdout",
     "output_type": "stream",
     "text": [
      "(73196, 8) (73196,)\n",
      "(36052, 8) (36052,)\n",
      "====================================================================================================\n",
      "After vectorizations\n",
      "(73196, 51) (73196,)\n",
      "(36052, 51) (36052,)\n",
      "['ak', 'al', 'ar', 'az', 'ca', 'co', 'ct', 'dc', 'de', 'fl', 'ga', 'hi', 'ia', 'id', 'il', 'in', 'ks', 'ky', 'la', 'ma', 'md', 'me', 'mi', 'mn', 'mo', 'ms', 'mt', 'nc', 'nd', 'ne', 'nh', 'nj', 'nm', 'nv', 'ny', 'oh', 'ok', 'or', 'pa', 'ri', 'sc', 'sd', 'tn', 'tx', 'ut', 'va', 'vt', 'wa', 'wi', 'wv', 'wy']\n",
      "====================================================================================================\n"
     ]
    }
   ],
   "source": [
    "print(X_train.shape, y_train.shape)\n",
    "print(X_test.shape, y_test.shape)\n",
    "print(\"=\"*100)\n",
    "\n",
    "vectorizer22 = CountVectorizer()\n",
    "vectorizer22.fit(X_train['school_state'].values) # fit has to happen only on train data\n",
    "\n",
    "# we use the fitted CountVectorizer to convert the text to vector\n",
    "X_train_schoolstate_ohe_1 = vectorizer22.transform(X_train['school_state'].values)\n",
    "X_test_schoolstate_ohe_1 = vectorizer22.transform(X_test['school_state'].values)\n",
    "\n",
    "print(\"After vectorizations\")\n",
    "print(X_train_schoolstate_ohe_1.shape, y_train.shape)\n",
    "print(X_test_schoolstate_ohe_1.shape, y_test.shape)\n",
    "print(vectorizer22.get_feature_names())\n",
    "print(\"=\"*100)"
   ]
  },
  {
   "cell_type": "code",
   "execution_count": 32,
   "metadata": {},
   "outputs": [
    {
     "name": "stdout",
     "output_type": "stream",
     "text": [
      "(73196, 8) (73196,)\n",
      "(36052, 8) (36052,)\n",
      "====================================================================================================\n",
      "After vectorizations\n",
      "(73196, 5) (73196,)\n",
      "(36052, 5) (36052,)\n",
      "['dr', 'mr', 'mrs', 'ms', 'teacher']\n",
      "====================================================================================================\n"
     ]
    }
   ],
   "source": [
    "print(X_train.shape, y_train.shape)\n",
    "print(X_test.shape, y_test.shape)\n",
    "print(\"=\"*100)\n",
    "\n",
    "vectorizer23 = CountVectorizer()\n",
    "vectorizer23.fit(X_train['teacher_prefix'].values) # fit has to happen only on train data\n",
    "\n",
    "# we use the fitted CountVectorizer to convert the text to vector\n",
    "X_train_teacherprefix_ohe_1 = vectorizer23.transform(X_train['teacher_prefix'].values)\n",
    "X_test_teacherprefix_ohe_1 = vectorizer23.transform(X_test['teacher_prefix'].values)\n",
    "\n",
    "print(\"After vectorizations\")\n",
    "print(X_train_teacherprefix_ohe_1.shape, y_train.shape)\n",
    "print(X_test_teacherprefix_ohe_1.shape, y_test.shape)\n",
    "print(vectorizer23.get_feature_names())\n",
    "print(\"=\"*100)"
   ]
  },
  {
   "cell_type": "code",
   "execution_count": 33,
   "metadata": {},
   "outputs": [
    {
     "name": "stdout",
     "output_type": "stream",
     "text": [
      "(73196, 8) (73196,)\n",
      "(36052, 8) (36052,)\n",
      "====================================================================================================\n",
      "After vectorizations\n",
      "(73196, 4) (73196,)\n",
      "(36052, 4) (36052,)\n",
      "['grades_3_5', 'grades_6_8', 'grades_9_12', 'grades_prek_2']\n",
      "====================================================================================================\n"
     ]
    }
   ],
   "source": [
    "print(X_train.shape, y_train.shape)\n",
    "print(X_test.shape, y_test.shape)\n",
    "print(\"=\"*100)\n",
    "\n",
    "vectorizer24 = CountVectorizer()\n",
    "vectorizer24.fit(X_train['project_grade_category'].values) # fit has to happen only on train data\n",
    "\n",
    "# we use the fitted CountVectorizer to convert the text to vector\n",
    "X_train_projectgradecategory_ohe_1 = vectorizer24.transform(X_train['project_grade_category'].values)\n",
    "X_test_projectgradecategory_ohe_1 = vectorizer24.transform(X_test['project_grade_category'].values)\n",
    "\n",
    "print(\"After vectorizations\")\n",
    "print(X_train_projectgradecategory_ohe_1.shape, y_train.shape)\n",
    "print(X_test_projectgradecategory_ohe_1.shape, y_test.shape)\n",
    "print(vectorizer24.get_feature_names())\n",
    "print(\"=\"*100)"
   ]
  },
  {
   "cell_type": "code",
   "execution_count": 34,
   "metadata": {},
   "outputs": [
    {
     "name": "stdout",
     "output_type": "stream",
     "text": [
      "(73196, 8) (73196,)\n",
      "(36052, 8) (36052,)\n",
      "====================================================================================================\n",
      "After vectorizations\n",
      "(73196, 9) (73196,)\n",
      "(36052, 9) (36052,)\n",
      "['appliedlearning', 'care_hunger', 'health_sports', 'history_civics', 'literacy_language', 'math_science', 'music_arts', 'specialneeds', 'warmth']\n",
      "====================================================================================================\n"
     ]
    }
   ],
   "source": [
    "print(X_train.shape, y_train.shape)\n",
    "print(X_test.shape, y_test.shape)\n",
    "print(\"=\"*100)\n",
    "\n",
    "vectorizer25 = CountVectorizer()\n",
    "vectorizer25.fit(X_train['clean_categories'].values) # fit has to happen only on train data\n",
    "\n",
    "# we use the fitted CountVectorizer to convert the text to vector\n",
    "X_train_cleancategories_ohe_1 = vectorizer25.transform(X_train['clean_categories'].values)\n",
    "X_test_cleancategories_ohe_1 = vectorizer25.transform(X_test['clean_categories'].values)\n",
    "\n",
    "print(\"After vectorizations\")\n",
    "print(X_train_cleancategories_ohe_1.shape, y_train.shape)\n",
    "print(X_test_cleancategories_ohe_1.shape, y_test.shape)\n",
    "print(vectorizer25.get_feature_names())\n",
    "print(\"=\"*100)"
   ]
  },
  {
   "cell_type": "code",
   "execution_count": 35,
   "metadata": {},
   "outputs": [
    {
     "name": "stdout",
     "output_type": "stream",
     "text": [
      "(73196, 8) (73196,)\n",
      "(36052, 8) (36052,)\n",
      "====================================================================================================\n",
      "After vectorizations\n",
      "(73196, 30) (73196,)\n",
      "(36052, 30) (36052,)\n",
      "['appliedsciences', 'care_hunger', 'charactereducation', 'civics_government', 'college_careerprep', 'communityservice', 'earlydevelopment', 'economics', 'environmentalscience', 'esl', 'extracurricular', 'financialliteracy', 'foreignlanguages', 'gym_fitness', 'health_lifescience', 'health_wellness', 'history_geography', 'literacy', 'literature_writing', 'mathematics', 'music', 'nutritioneducation', 'other', 'parentinvolvement', 'performingarts', 'socialsciences', 'specialneeds', 'teamsports', 'visualarts', 'warmth']\n",
      "====================================================================================================\n"
     ]
    }
   ],
   "source": [
    "print(X_train.shape, y_train.shape)\n",
    "print(X_test.shape, y_test.shape)\n",
    "print(\"=\"*100)\n",
    "\n",
    "vectorizer26 = CountVectorizer()\n",
    "vectorizer26.fit(X_train['clean_subcategories'].values) # fit has to happen only on train data\n",
    "\n",
    "# we use the fitted CountVectorizer to convert the text to vector\n",
    "X_train_cleansubcategories_ohe_1 = vectorizer26.transform(X_train['clean_subcategories'].values)\n",
    "X_test_cleansubcategories_ohe_1 = vectorizer26.transform(X_test['clean_subcategories'].values)\n",
    "\n",
    "print(\"After vectorizations\")\n",
    "print(X_train_cleansubcategories_ohe_1.shape, y_train.shape)\n",
    "print(X_test_cleansubcategories_ohe_1.shape, y_test.shape)\n",
    "print(vectorizer26.get_feature_names())\n",
    "print(\"=\"*100)"
   ]
  },
  {
   "cell_type": "code",
   "execution_count": 36,
   "metadata": {},
   "outputs": [
    {
     "name": "stdout",
     "output_type": "stream",
     "text": [
      "After vectorizations\n",
      "(73196, 1) (73196,)\n",
      "(36052, 1) (36052,)\n",
      "====================================================================================================\n"
     ]
    }
   ],
   "source": [
    "from sklearn.preprocessing import Normalizer\n",
    "\n",
    "normalizer = Normalizer()\n",
    "# normalizer.fit(X_train['price'].values)\n",
    "# this will rise an error Expected 2D array, got 1D array instead: \n",
    "# array=[105.22 215.96  96.01 ... 368.98  80.53 709.67].\n",
    "# Reshape your data either using \n",
    "# array.reshape(-1, 1) if your data has a single feature \n",
    "# array.reshape(1, -1)  if it contains a single sample.\n",
    "normalizer.fit(X_train['price'].values.reshape(-1,1))\n",
    "\n",
    "X_train_price_norm_1 = normalizer.transform(X_train['price'].values.reshape(-1,1))\n",
    "X_test_price_norm_1 = normalizer.transform(X_test['price'].values.reshape(-1,1))\n",
    "\n",
    "\n",
    "print(\"After vectorizations\")\n",
    "print(X_train_price_norm_1.shape, y_train.shape)\n",
    "print(X_test_price_norm_1.shape, y_test.shape)\n",
    "print(\"=\"*100)"
   ]
  },
  {
   "cell_type": "code",
   "execution_count": 37,
   "metadata": {},
   "outputs": [
    {
     "name": "stdout",
     "output_type": "stream",
     "text": [
      "After vectorizations\n",
      "(73196, 1) (73196,)\n",
      "(36052, 1) (36052,)\n",
      "====================================================================================================\n"
     ]
    }
   ],
   "source": [
    "normalizer = Normalizer()\n",
    "# normalizer.fit(X_train['price'].values)\n",
    "# this will rise an error Expected 2D array, got 1D array instead: \n",
    "# array=[105.22 215.96  96.01 ... 368.98  80.53 709.67].\n",
    "# Reshape your data either using \n",
    "# array.reshape(-1, 1) if your data has a single feature \n",
    "# array.reshape(1, -1)  if it contains a single sample.\n",
    "normalizer.fit(X_train['teacher_number_of_previously_posted_projects'].values.reshape(-1,1))\n",
    "\n",
    "X_train_previously_posted_projects_norm_1 = normalizer.transform(X_train['teacher_number_of_previously_posted_projects'].values.reshape(-1,1))\n",
    "X_test_previously_posted_projects_norm_1 = normalizer.transform(X_test['teacher_number_of_previously_posted_projects'].values.reshape(-1,1))\n",
    "\n",
    "\n",
    "print(\"After vectorizations\")\n",
    "print(X_train_previously_posted_projects_norm_1.shape, y_train.shape)\n",
    "print(X_test_previously_posted_projects_norm_1.shape, y_test.shape)\n",
    "print(\"=\"*100)"
   ]
  },
  {
   "cell_type": "code",
   "execution_count": 38,
   "metadata": {},
   "outputs": [
    {
     "name": "stdout",
     "output_type": "stream",
     "text": [
      "Final Data matrix\n",
      "(73196, 5101) (73196,)\n",
      "(36052, 5101) (36052,)\n",
      "====================================================================================================\n"
     ]
    }
   ],
   "source": [
    "# merge two sparse matrices: https://stackoverflow.com/a/19710648/4084039\n",
    "from scipy.sparse import hstack\n",
    "X_tr_1 = hstack((X_train_essay_tfidf, X_train_schoolstate_ohe_1, X_train_teacherprefix_ohe_1, X_train_projectgradecategory_ohe_1, X_train_cleancategories_ohe_1, X_train_cleansubcategories_ohe_1, X_train_price_norm_1, X_train_previously_posted_projects_norm_1)).tocsr()\n",
    "X_te_1 = hstack((X_test_essay_tfidf, X_test_schoolstate_ohe_1, X_test_teacherprefix_ohe_1, X_test_projectgradecategory_ohe_1, X_test_cleancategories_ohe_1, X_test_cleansubcategories_ohe_1, X_test_price_norm_1, X_test_previously_posted_projects_norm_1)).tocsr()\n",
    "\n",
    "print(\"Final Data matrix\")\n",
    "print(X_tr_1.shape, y_train.shape)\n",
    "print(X_te_1.shape, y_test.shape)\n",
    "print(\"=\"*100)"
   ]
  },
  {
   "cell_type": "code",
   "execution_count": 39,
   "metadata": {},
   "outputs": [],
   "source": [
    "def batch_predict(clf, data):\n",
    "    # roc_auc_score(y_true, y_score) the 2nd parameter should be probability estimates of the positive class\n",
    "    # not the predicted outputs\n",
    "\n",
    "    y_data_pred = []\n",
    "    tr_loop = data.shape[0] - data.shape[0]%1000\n",
    "    # consider you X_tr shape is 49041, then your tr_loop will be 49041 - 49041%1000 = 49000\n",
    "    # in this for loop we will iterate unti the last 1000 multiplier\n",
    "    for i in range(0, tr_loop, 1000):\n",
    "        y_data_pred.extend(clf.predict_proba(data[i:i+1000])[:,1])\n",
    "    # we will be predicting for the last data points\n",
    "    if data.shape[0]%1000 !=0:\n",
    "        y_data_pred.extend(clf.predict_proba(data[tr_loop:])[:,1])\n",
    "    \n",
    "    return y_data_pred"
   ]
  },
  {
   "cell_type": "markdown",
   "metadata": {},
   "source": [
    "<h2>2.4 Building a model using GridSearchCV</h2>"
   ]
  },
  {
   "cell_type": "code",
   "execution_count": 42,
   "metadata": {},
   "outputs": [
    {
     "data": {
      "image/png": "[encoded data removed]",
      "text/plain": [
       "<Figure size 432x288 with 1 Axes>"
      ]
     },
     "metadata": {
      "needs_background": "light"
     },
     "output_type": "display_data"
    },
    {
     "data": {
      "text/html": [
       "<div>\n",
       "<style scoped>\n",
       "    .dataframe tbody tr th:only-of-type {\n",
       "        vertical-align: middle;\n",
       "    }\n",
       "\n",
       "    .dataframe tbody tr th {\n",
       "        vertical-align: top;\n",
       "    }\n",
       "\n",
       "    .dataframe thead th {\n",
       "        text-align: right;\n",
       "    }\n",
       "</style>\n",
       "<table border=\"1\" class=\"dataframe\">\n",
       "  <thead>\n",
       "    <tr style=\"text-align: right;\">\n",
       "      <th></th>\n",
       "      <th>mean_fit_time</th>\n",
       "      <th>std_fit_time</th>\n",
       "      <th>mean_score_time</th>\n",
       "      <th>std_score_time</th>\n",
       "      <th>param_alpha</th>\n",
       "      <th>params</th>\n",
       "      <th>split0_test_score</th>\n",
       "      <th>split1_test_score</th>\n",
       "      <th>split2_test_score</th>\n",
       "      <th>mean_test_score</th>\n",
       "      <th>std_test_score</th>\n",
       "      <th>rank_test_score</th>\n",
       "      <th>split0_train_score</th>\n",
       "      <th>split1_train_score</th>\n",
       "      <th>split2_train_score</th>\n",
       "      <th>mean_train_score</th>\n",
       "      <th>std_train_score</th>\n",
       "    </tr>\n",
       "  </thead>\n",
       "  <tbody>\n",
       "    <tr>\n",
       "      <th>0</th>\n",
       "      <td>0.178532</td>\n",
       "      <td>0.008011</td>\n",
       "      <td>0.028925</td>\n",
       "      <td>0.002154</td>\n",
       "      <td>1e-05</td>\n",
       "      <td>{'alpha': 1e-05}</td>\n",
       "      <td>0.657502</td>\n",
       "      <td>0.674828</td>\n",
       "      <td>0.674343</td>\n",
       "      <td>0.668891</td>\n",
       "      <td>0.008056</td>\n",
       "      <td>1</td>\n",
       "      <td>0.698751</td>\n",
       "      <td>0.704286</td>\n",
       "      <td>0.701416</td>\n",
       "      <td>0.701484</td>\n",
       "      <td>0.002260</td>\n",
       "    </tr>\n",
       "    <tr>\n",
       "      <th>2</th>\n",
       "      <td>0.190159</td>\n",
       "      <td>0.004485</td>\n",
       "      <td>0.040559</td>\n",
       "      <td>0.004483</td>\n",
       "      <td>0.0001</td>\n",
       "      <td>{'alpha': 0.0001}</td>\n",
       "      <td>0.657501</td>\n",
       "      <td>0.674828</td>\n",
       "      <td>0.674343</td>\n",
       "      <td>0.668891</td>\n",
       "      <td>0.008056</td>\n",
       "      <td>2</td>\n",
       "      <td>0.698751</td>\n",
       "      <td>0.704285</td>\n",
       "      <td>0.701416</td>\n",
       "      <td>0.701484</td>\n",
       "      <td>0.002260</td>\n",
       "    </tr>\n",
       "    <tr>\n",
       "      <th>1</th>\n",
       "      <td>0.168330</td>\n",
       "      <td>0.025031</td>\n",
       "      <td>0.040252</td>\n",
       "      <td>0.011580</td>\n",
       "      <td>0.0005</td>\n",
       "      <td>{'alpha': 0.0005}</td>\n",
       "      <td>0.657499</td>\n",
       "      <td>0.674826</td>\n",
       "      <td>0.674340</td>\n",
       "      <td>0.668888</td>\n",
       "      <td>0.008056</td>\n",
       "      <td>3</td>\n",
       "      <td>0.698748</td>\n",
       "      <td>0.704281</td>\n",
       "      <td>0.701413</td>\n",
       "      <td>0.701481</td>\n",
       "      <td>0.002260</td>\n",
       "    </tr>\n",
       "    <tr>\n",
       "      <th>4</th>\n",
       "      <td>0.156249</td>\n",
       "      <td>0.007892</td>\n",
       "      <td>0.038246</td>\n",
       "      <td>0.011860</td>\n",
       "      <td>0.001</td>\n",
       "      <td>{'alpha': 0.001}</td>\n",
       "      <td>0.657496</td>\n",
       "      <td>0.674823</td>\n",
       "      <td>0.674337</td>\n",
       "      <td>0.668885</td>\n",
       "      <td>0.008056</td>\n",
       "      <td>4</td>\n",
       "      <td>0.698744</td>\n",
       "      <td>0.704277</td>\n",
       "      <td>0.701409</td>\n",
       "      <td>0.701476</td>\n",
       "      <td>0.002259</td>\n",
       "    </tr>\n",
       "    <tr>\n",
       "      <th>3</th>\n",
       "      <td>0.174534</td>\n",
       "      <td>0.015896</td>\n",
       "      <td>0.033577</td>\n",
       "      <td>0.004485</td>\n",
       "      <td>0.005</td>\n",
       "      <td>{'alpha': 0.005}</td>\n",
       "      <td>0.657477</td>\n",
       "      <td>0.674800</td>\n",
       "      <td>0.674312</td>\n",
       "      <td>0.668863</td>\n",
       "      <td>0.008054</td>\n",
       "      <td>5</td>\n",
       "      <td>0.698713</td>\n",
       "      <td>0.704241</td>\n",
       "      <td>0.701377</td>\n",
       "      <td>0.701443</td>\n",
       "      <td>0.002257</td>\n",
       "    </tr>\n",
       "    <tr>\n",
       "      <th>6</th>\n",
       "      <td>0.161256</td>\n",
       "      <td>0.027746</td>\n",
       "      <td>0.027274</td>\n",
       "      <td>0.000485</td>\n",
       "      <td>0.01</td>\n",
       "      <td>{'alpha': 0.01}</td>\n",
       "      <td>0.657450</td>\n",
       "      <td>0.674772</td>\n",
       "      <td>0.674278</td>\n",
       "      <td>0.668833</td>\n",
       "      <td>0.008052</td>\n",
       "      <td>6</td>\n",
       "      <td>0.698673</td>\n",
       "      <td>0.704196</td>\n",
       "      <td>0.701337</td>\n",
       "      <td>0.701402</td>\n",
       "      <td>0.002255</td>\n",
       "    </tr>\n",
       "    <tr>\n",
       "      <th>5</th>\n",
       "      <td>0.176195</td>\n",
       "      <td>0.021870</td>\n",
       "      <td>0.027594</td>\n",
       "      <td>0.000941</td>\n",
       "      <td>0.05</td>\n",
       "      <td>{'alpha': 0.05}</td>\n",
       "      <td>0.657237</td>\n",
       "      <td>0.674548</td>\n",
       "      <td>0.674014</td>\n",
       "      <td>0.668600</td>\n",
       "      <td>0.008038</td>\n",
       "      <td>7</td>\n",
       "      <td>0.698362</td>\n",
       "      <td>0.703850</td>\n",
       "      <td>0.701020</td>\n",
       "      <td>0.701077</td>\n",
       "      <td>0.002241</td>\n",
       "    </tr>\n",
       "    <tr>\n",
       "      <th>7</th>\n",
       "      <td>0.163230</td>\n",
       "      <td>0.023039</td>\n",
       "      <td>0.035905</td>\n",
       "      <td>0.007769</td>\n",
       "      <td>0.1</td>\n",
       "      <td>{'alpha': 0.1}</td>\n",
       "      <td>0.656960</td>\n",
       "      <td>0.674256</td>\n",
       "      <td>0.673681</td>\n",
       "      <td>0.668299</td>\n",
       "      <td>0.008021</td>\n",
       "      <td>8</td>\n",
       "      <td>0.697974</td>\n",
       "      <td>0.703416</td>\n",
       "      <td>0.700626</td>\n",
       "      <td>0.700672</td>\n",
       "      <td>0.002222</td>\n",
       "    </tr>\n",
       "    <tr>\n",
       "      <th>8</th>\n",
       "      <td>0.148623</td>\n",
       "      <td>0.006957</td>\n",
       "      <td>0.027607</td>\n",
       "      <td>0.000930</td>\n",
       "      <td>0.5</td>\n",
       "      <td>{'alpha': 0.5}</td>\n",
       "      <td>0.654787</td>\n",
       "      <td>0.671918</td>\n",
       "      <td>0.671022</td>\n",
       "      <td>0.665909</td>\n",
       "      <td>0.007873</td>\n",
       "      <td>9</td>\n",
       "      <td>0.694907</td>\n",
       "      <td>0.700071</td>\n",
       "      <td>0.697471</td>\n",
       "      <td>0.697483</td>\n",
       "      <td>0.002108</td>\n",
       "    </tr>\n",
       "    <tr>\n",
       "      <th>9</th>\n",
       "      <td>0.140979</td>\n",
       "      <td>0.001246</td>\n",
       "      <td>0.027607</td>\n",
       "      <td>0.000453</td>\n",
       "      <td>1</td>\n",
       "      <td>{'alpha': 1}</td>\n",
       "      <td>0.652033</td>\n",
       "      <td>0.668948</td>\n",
       "      <td>0.667676</td>\n",
       "      <td>0.662886</td>\n",
       "      <td>0.007692</td>\n",
       "      <td>10</td>\n",
       "      <td>0.691143</td>\n",
       "      <td>0.696056</td>\n",
       "      <td>0.693566</td>\n",
       "      <td>0.693589</td>\n",
       "      <td>0.002006</td>\n",
       "    </tr>\n",
       "    <tr>\n",
       "      <th>10</th>\n",
       "      <td>0.140980</td>\n",
       "      <td>0.000479</td>\n",
       "      <td>0.027582</td>\n",
       "      <td>0.000463</td>\n",
       "      <td>5</td>\n",
       "      <td>{'alpha': 5}</td>\n",
       "      <td>0.631271</td>\n",
       "      <td>0.645990</td>\n",
       "      <td>0.642546</td>\n",
       "      <td>0.639935</td>\n",
       "      <td>0.006286</td>\n",
       "      <td>11</td>\n",
       "      <td>0.663879</td>\n",
       "      <td>0.666709</td>\n",
       "      <td>0.664931</td>\n",
       "      <td>0.665173</td>\n",
       "      <td>0.001168</td>\n",
       "    </tr>\n",
       "    <tr>\n",
       "      <th>11</th>\n",
       "      <td>0.145299</td>\n",
       "      <td>0.006615</td>\n",
       "      <td>0.027586</td>\n",
       "      <td>0.000926</td>\n",
       "      <td>10</td>\n",
       "      <td>{'alpha': 10}</td>\n",
       "      <td>0.611703</td>\n",
       "      <td>0.623957</td>\n",
       "      <td>0.618635</td>\n",
       "      <td>0.618098</td>\n",
       "      <td>0.005017</td>\n",
       "      <td>12</td>\n",
       "      <td>0.638377</td>\n",
       "      <td>0.638802</td>\n",
       "      <td>0.638341</td>\n",
       "      <td>0.638507</td>\n",
       "      <td>0.000209</td>\n",
       "    </tr>\n",
       "    <tr>\n",
       "      <th>12</th>\n",
       "      <td>0.139877</td>\n",
       "      <td>0.002492</td>\n",
       "      <td>0.028381</td>\n",
       "      <td>0.001225</td>\n",
       "      <td>50</td>\n",
       "      <td>{'alpha': 50}</td>\n",
       "      <td>0.565420</td>\n",
       "      <td>0.569983</td>\n",
       "      <td>0.560888</td>\n",
       "      <td>0.565430</td>\n",
       "      <td>0.003713</td>\n",
       "      <td>13</td>\n",
       "      <td>0.574368</td>\n",
       "      <td>0.571066</td>\n",
       "      <td>0.574145</td>\n",
       "      <td>0.573193</td>\n",
       "      <td>0.001507</td>\n",
       "    </tr>\n",
       "    <tr>\n",
       "      <th>13</th>\n",
       "      <td>0.141220</td>\n",
       "      <td>0.000633</td>\n",
       "      <td>0.024703</td>\n",
       "      <td>0.003150</td>\n",
       "      <td>100</td>\n",
       "      <td>{'alpha': 100}</td>\n",
       "      <td>0.555592</td>\n",
       "      <td>0.557560</td>\n",
       "      <td>0.548341</td>\n",
       "      <td>0.553831</td>\n",
       "      <td>0.003964</td>\n",
       "      <td>14</td>\n",
       "      <td>0.559094</td>\n",
       "      <td>0.556241</td>\n",
       "      <td>0.559901</td>\n",
       "      <td>0.558412</td>\n",
       "      <td>0.001570</td>\n",
       "    </tr>\n",
       "  </tbody>\n",
       "</table>\n",
       "</div>"
      ],
      "text/plain": [
       "    mean_fit_time  std_fit_time  mean_score_time  std_score_time param_alpha  \\\n",
       "0        0.178532      0.008011         0.028925        0.002154       1e-05   \n",
       "2        0.190159      0.004485         0.040559        0.004483      0.0001   \n",
       "1        0.168330      0.025031         0.040252        0.011580      0.0005   \n",
       "4        0.156249      0.007892         0.038246        0.011860       0.001   \n",
       "3        0.174534      0.015896         0.033577        0.004485       0.005   \n",
       "6        0.161256      0.027746         0.027274        0.000485        0.01   \n",
       "5        0.176195      0.021870         0.027594        0.000941        0.05   \n",
       "7        0.163230      0.023039         0.035905        0.007769         0.1   \n",
       "8        0.148623      0.006957         0.027607        0.000930         0.5   \n",
       "9        0.140979      0.001246         0.027607        0.000453           1   \n",
       "10       0.140980      0.000479         0.027582        0.000463           5   \n",
       "11       0.145299      0.006615         0.027586        0.000926          10   \n",
       "12       0.139877      0.002492         0.028381        0.001225          50   \n",
       "13       0.141220      0.000633         0.024703        0.003150         100   \n",
       "\n",
       "               params  split0_test_score  split1_test_score  \\\n",
       "0    {'alpha': 1e-05}           0.657502           0.674828   \n",
       "2   {'alpha': 0.0001}           0.657501           0.674828   \n",
       "1   {'alpha': 0.0005}           0.657499           0.674826   \n",
       "4    {'alpha': 0.001}           0.657496           0.674823   \n",
       "3    {'alpha': 0.005}           0.657477           0.674800   \n",
       "6     {'alpha': 0.01}           0.657450           0.674772   \n",
       "5     {'alpha': 0.05}           0.657237           0.674548   \n",
       "7      {'alpha': 0.1}           0.656960           0.674256   \n",
       "8      {'alpha': 0.5}           0.654787           0.671918   \n",
       "9        {'alpha': 1}           0.652033           0.668948   \n",
       "10       {'alpha': 5}           0.631271           0.645990   \n",
       "11      {'alpha': 10}           0.611703           0.623957   \n",
       "12      {'alpha': 50}           0.565420           0.569983   \n",
       "13     {'alpha': 100}           0.555592           0.557560   \n",
       "\n",
       "    split2_test_score  mean_test_score  std_test_score  rank_test_score  \\\n",
       "0            0.674343         0.668891        0.008056                1   \n",
       "2            0.674343         0.668891        0.008056                2   \n",
       "1            0.674340         0.668888        0.008056                3   \n",
       "4            0.674337         0.668885        0.008056                4   \n",
       "3            0.674312         0.668863        0.008054                5   \n",
       "6            0.674278         0.668833        0.008052                6   \n",
       "5            0.674014         0.668600        0.008038                7   \n",
       "7            0.673681         0.668299        0.008021                8   \n",
       "8            0.671022         0.665909        0.007873                9   \n",
       "9            0.667676         0.662886        0.007692               10   \n",
       "10           0.642546         0.639935        0.006286               11   \n",
       "11           0.618635         0.618098        0.005017               12   \n",
       "12           0.560888         0.565430        0.003713               13   \n",
       "13           0.548341         0.553831        0.003964               14   \n",
       "\n",
       "    split0_train_score  split1_train_score  split2_train_score  \\\n",
       "0             0.698751            0.704286            0.701416   \n",
       "2             0.698751            0.704285            0.701416   \n",
       "1             0.698748            0.704281            0.701413   \n",
       "4             0.698744            0.704277            0.701409   \n",
       "3             0.698713            0.704241            0.701377   \n",
       "6             0.698673            0.704196            0.701337   \n",
       "5             0.698362            0.703850            0.701020   \n",
       "7             0.697974            0.703416            0.700626   \n",
       "8             0.694907            0.700071            0.697471   \n",
       "9             0.691143            0.696056            0.693566   \n",
       "10            0.663879            0.666709            0.664931   \n",
       "11            0.638377            0.638802            0.638341   \n",
       "12            0.574368            0.571066            0.574145   \n",
       "13            0.559094            0.556241            0.559901   \n",
       "\n",
       "    mean_train_score  std_train_score  \n",
       "0           0.701484         0.002260  \n",
       "2           0.701484         0.002260  \n",
       "1           0.701481         0.002260  \n",
       "4           0.701476         0.002259  \n",
       "3           0.701443         0.002257  \n",
       "6           0.701402         0.002255  \n",
       "5           0.701077         0.002241  \n",
       "7           0.700672         0.002222  \n",
       "8           0.697483         0.002108  \n",
       "9           0.693589         0.002006  \n",
       "10          0.665173         0.001168  \n",
       "11          0.638507         0.000209  \n",
       "12          0.573193         0.001507  \n",
       "13          0.558412         0.001570  "
      ]
     },
     "execution_count": 42,
     "metadata": {},
     "output_type": "execute_result"
    }
   ],
   "source": [
    "# https://scikit-learn.org/stable/modules/generated/sklearn.model_selection.GridSearchCV.html\n",
    "from sklearn.naive_bayes import MultinomialNB\n",
    "from sklearn.model_selection import GridSearchCV\n",
    "from scipy.stats import randint as sp_randint\n",
    "from sklearn.model_selection import RandomizedSearchCV\n",
    "\n",
    "MNB_tfidf = MultinomialNB(class_prior=[0.5,0.5], fit_prior = True)\n",
    "parameters = {'alpha':[0.00001,0.0005, 0.0001,0.005,0.001,0.05,0.01,0.1,0.5,1,5,10,50,100]}\n",
    "clf = GridSearchCV(MNB_tfidf, parameters, cv=3, scoring='roc_auc', return_train_score=True)\n",
    "clf.fit(X_tr_1, y_train)\n",
    "\n",
    "results = pd.DataFrame.from_dict(clf.cv_results_)\n",
    "results = results.sort_values(['param_alpha'])\n",
    "\n",
    "train_auc= results['mean_train_score']\n",
    "train_auc_std= results['std_train_score']\n",
    "cv_auc = results['mean_test_score'] \n",
    "cv_auc_std= results['std_test_score']\n",
    "K =  results['param_alpha']\n",
    "\n",
    "plt.semilogx(K, train_auc, label='Train AUC')\n",
    "# this code is copied from here: https://stackoverflow.com/a/48803361/4084039\n",
    "# plt.gca().fill_between(K, train_auc - train_auc_std,train_auc + train_auc_std,alpha=0.2,color='darkblue')\n",
    "\n",
    "plt.semilogx(K, cv_auc, label='CV AUC')\n",
    "# this code is copied from here: https://stackoverflow.com/a/48803361/4084039\n",
    "# plt.gca().fill_between(K, cv_auc - cv_auc_std,cv_auc + cv_auc_std,alpha=0.2,color='darkorange')\n",
    "\n",
    "plt.scatter(K, train_auc, label='Train AUC points')\n",
    "plt.scatter(K, cv_auc, label='CV AUC points')\n",
    "\n",
    "\n",
    "plt.legend()\n",
    "plt.xlabel(\"Alpha: hyperparameter\")\n",
    "plt.ylabel(\"AUC\")\n",
    "plt.title(\"Hyper parameter Vs AUC plot\")\n",
    "plt.grid()\n",
    "plt.show()\n",
    "\n",
    "results"
   ]
  },
  {
   "cell_type": "code",
   "execution_count": 43,
   "metadata": {},
   "outputs": [],
   "source": [
    "best_alpha_tfidf = 0.01"
   ]
  },
  {
   "cell_type": "code",
   "execution_count": 44,
   "metadata": {},
   "outputs": [
    {
     "data": {
      "image/png": "[encoded data removed]",
      "text/plain": [
       "<Figure size 432x288 with 1 Axes>"
      ]
     },
     "metadata": {
      "needs_background": "light"
     },
     "output_type": "display_data"
    }
   ],
   "source": [
    "from sklearn.metrics import roc_curve, auc\n",
    "\n",
    "MNB_tfidf = MultinomialNB(alpha=best_alpha_tfidf)\n",
    "MNB_tfidf.fit(X_tr_1, y_train)\n",
    "# roc_auc_score(y_true, y_score) the 2nd parameter should be probability estimates of the positive class\n",
    "# not the predicted outputs\n",
    "\n",
    "y_train_pred = batch_predict(MNB_tfidf, X_tr_1)    \n",
    "y_test_pred = batch_predict(MNB_tfidf, X_te_1)\n",
    "\n",
    "train_fpr_1, train_tpr_1, tr_thresholds = roc_curve(y_train, y_train_pred)\n",
    "test_fpr_1, test_tpr_1, te_thresholds = roc_curve(y_test, y_test_pred)\n",
    "\n",
    "plt.plot(train_fpr_1, train_tpr_1, label=\"train AUC =\"+str(auc(train_fpr_1, train_tpr_1)))\n",
    "plt.plot(test_fpr_1, test_tpr_1, label=\"test AUC =\"+str(auc(test_fpr_1, test_tpr_1)))\n",
    "plt.legend()\n",
    "plt.xlabel(\"apha: hyperparameter\")\n",
    "plt.ylabel(\"AUC\")\n",
    "plt.title(\"ERROR PLOTS\")\n",
    "plt.grid()\n",
    "plt.show()"
   ]
  },
  {
   "cell_type": "code",
   "execution_count": 45,
   "metadata": {},
   "outputs": [],
   "source": [
    "def find_best_threshold(threshould, fpr, tpr):\n",
    "    t = threshould[np.argmax(tpr*(1-fpr))]\n",
    "    # (tpr*(1-fpr)) will be maximum if your fpr is very low and tpr is very high\n",
    "    print(\"the maximum value of tpr*(1-fpr)\", max(tpr*(1-fpr)), \"for threshold\", np.round(t,3))\n",
    "    return t\n",
    "\n",
    "def predict_with_best_t(proba, threshould):\n",
    "    predictions = []\n",
    "    for i in proba:\n",
    "        if i>=threshould:\n",
    "            predictions.append(1)\n",
    "        else:\n",
    "            predictions.append(0)\n",
    "    return predictions"
   ]
  },
  {
   "cell_type": "code",
   "execution_count": 46,
   "metadata": {},
   "outputs": [
    {
     "name": "stdout",
     "output_type": "stream",
     "text": [
      "====================================================================================================\n",
      "the maximum value of tpr*(1-fpr) 0.4132459977800151 for threshold 0.85\n",
      "Train confusion matrix\n",
      "[[ 7271  3812]\n",
      " [22988 39125]]\n",
      "Test confusion matrix\n",
      "[[ 3364  2095]\n",
      " [11362 19231]]\n"
     ]
    }
   ],
   "source": [
    "print(\"=\"*100)\n",
    "from sklearn.metrics import confusion_matrix\n",
    "best_t = find_best_threshold(tr_thresholds, train_fpr_1, train_tpr_1)\n",
    "cm_train = confusion_matrix(y_train, predict_with_best_t(y_train_pred, best_t))\n",
    "cm_test = confusion_matrix(y_test, predict_with_best_t(y_test_pred, best_t))\n",
    "print(\"Train confusion matrix\")\n",
    "print(cm_train)\n",
    "print(\"Test confusion matrix\")\n",
    "print(cm_test)"
   ]
  },
  {
   "cell_type": "code",
   "execution_count": 47,
   "metadata": {},
   "outputs": [
    {
     "data": {
      "text/plain": [
       "<AxesSubplot:>"
      ]
     },
     "execution_count": 47,
     "metadata": {},
     "output_type": "execute_result"
    },
    {
     "data": {
      "image/png": "[encoded data removed]",
      "text/plain": [
       "<Figure size 432x288 with 2 Axes>"
      ]
     },
     "metadata": {
      "needs_background": "light"
     },
     "output_type": "display_data"
    }
   ],
   "source": [
    "import seaborn as sns\n",
    "import matplotlib.pyplot as plt \n",
    "\n",
    "sns.heatmap(cm_train, annot=True,fmt=\"d\",cmap='Blues')"
   ]
  },
  {
   "cell_type": "code",
   "execution_count": 48,
   "metadata": {},
   "outputs": [
    {
     "data": {
      "text/plain": [
       "<AxesSubplot:>"
      ]
     },
     "execution_count": 48,
     "metadata": {},
     "output_type": "execute_result"
    },
    {
     "data": {
      "image/png": "[encoded data removed]",
      "text/plain": [
       "<Figure size 432x288 with 2 Axes>"
      ]
     },
     "metadata": {
      "needs_background": "light"
     },
     "output_type": "display_data"
    }
   ],
   "source": [
    "sns.heatmap(cm_test, annot=True,fmt=\"d\",cmap='Blues')"
   ]
  },
  {
   "cell_type": "markdown",
   "metadata": {},
   "source": [
    "<h2>2.5 top 25 features from feature Set 1 using values of `feature_log_prob_ ` parameter of `MultinomialNB`  and print both positive as well as negative corresponding feature names.</h2>\n",
    "\n",
    "### (https://scikit-learn.org/stable/modules/generated/sklearn.naive_bayes.MultinomialNB.html)"
   ]
  },
  {
   "cell_type": "code",
   "execution_count": 49,
   "metadata": {},
   "outputs": [],
   "source": [
    "neg_class_prob_sorted_set2 = MNB_tfidf.feature_log_prob_[0, :].argsort()\n",
    "pos_class_prob_sorted_set2 = MNB_tfidf.feature_log_prob_[1, :].argsort()"
   ]
  },
  {
   "cell_type": "code",
   "execution_count": 50,
   "metadata": {},
   "outputs": [],
   "source": [
    "from itertools import chain\n",
    "Stacked_Feature_list = list(chain(vectorizer21.get_feature_names(),vectorizer22.get_feature_names(),vectorizer23.get_feature_names(), vectorizer24.get_feature_names(),vectorizer25.get_feature_names(),vectorizer26.get_feature_names(), X_train_price_norm_1, X_train_previously_posted_projects_norm-1 ))"
   ]
  },
  {
   "cell_type": "code",
   "execution_count": 55,
   "metadata": {},
   "outputs": [
    {
     "name": "stdout",
     "output_type": "stream",
     "text": [
      "The words with higest importance in Negative class is\n",
      "['ny' 'visualarts' 'health_wellness' 'tx' 'music_arts' 'mr' 'grades_9_12'\n",
      " 'appliedsciences' 'students' 'appliedlearning' 'health_sports' 'ca'\n",
      " 'specialneeds' 'specialneeds' 'grades_6_8' 'literature_writing'\n",
      " 'literacy' 'mathematics' 'grades_3_5' 'ms' 'math_science' 'grades_prek_2'\n",
      " 'literacy_language' 'mrs' array([1.])]\n",
      "********************\n",
      "The words with higest importance in Positive class is\n",
      "['visualarts' 'tx' 'ny' 'music_arts' 'health_wellness' 'mr'\n",
      " 'appliedsciences' 'grades_9_12' 'appliedlearning' 'specialneeds'\n",
      " 'specialneeds' 'students' 'health_sports' 'ca' 'grades_6_8'\n",
      " 'literature_writing' 'mathematics' 'literacy' 'grades_3_5' 'ms'\n",
      " 'math_science' 'grades_prek_2' 'literacy_language' 'mrs' array([1.])]\n"
     ]
    }
   ],
   "source": [
    "print(\"The words with higest importance in Negative class is\")\n",
    "print(np.take(Stacked_Feature_list, neg_class_prob_sorted_set2[-26:-1]))\n",
    "print(\"*\"*20)\n",
    "print(\"The words with higest importance in Positive class is\")\n",
    "print(np.take(Stacked_Feature_list, pos_class_prob_sorted_set2[-26:-1]))"
   ]
  },
  {
   "cell_type": "markdown",
   "metadata": {},
   "source": [
    "<h2>Summary using Pretty Table</h2>"
   ]
  },
  {
   "cell_type": "code",
   "execution_count": 57,
   "metadata": {},
   "outputs": [
    {
     "name": "stdout",
     "output_type": "stream",
     "text": [
      "+-------------+------------+-----------------------+--------------------+\n",
      "|    Model    | Vectorizer | Hyper Parameter Alpha |        AUC         |\n",
      "+-------------+------------+-----------------------+--------------------+\n",
      "| Naive Bayes |    BOW     |           1           | 0.6872412712394228 |\n",
      "| Naive Bayes |   TFIDF    |          0.01         | 0.6676751043055411 |\n",
      "+-------------+------------+-----------------------+--------------------+\n"
     ]
    }
   ],
   "source": [
    "from prettytable import PrettyTable\n",
    "\n",
    "table = PrettyTable()\n",
    "table.field_names = [\"Model\", \"Vectorizer\", \"Hyper Parameter Alpha\", \"AUC\"]\n",
    "\n",
    "table.add_row([\"Naive Bayes\",\"BOW\", best_alpha_bow, str(auc(test_fpr, test_tpr))])\n",
    "table.add_row([\"Naive Bayes\",\"TFIDF\", best_alpha_tfidf, str(auc(test_fpr_1, test_tpr_1))])\n",
    "\n",
    "print (table)"
   ]
  }
 ],
 "metadata": {
  "colab": {
   "collapsed_sections": [],
   "name": "6_Assignment_NB_Instructions.ipynb",
   "provenance": []
  },
  "kernelspec": {
   "display_name": "Python 3",
   "language": "python",
   "name": "python3"
  },
  "language_info": {
   "codemirror_mode": {
    "name": "ipython",
    "version": 3
   },
   "file_extension": ".py",
   "mimetype": "text/x-python",
   "name": "python",
   "nbconvert_exporter": "python",
   "pygments_lexer": "ipython3",
   "version": "3.7.9"
  }
 },
 "nbformat": 4,
 "nbformat_minor": 1
}
